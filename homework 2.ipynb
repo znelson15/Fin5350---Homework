{
 "cells": [
  {
   "cell_type": "markdown",
   "metadata": {},
   "source": [
    "Question 1.A"
   ]
  },
  {
   "cell_type": "code",
   "execution_count": 23,
   "metadata": {},
   "outputs": [
    {
     "name": "stdout",
     "output_type": "stream",
     "text": [
      "11.5684 0.5000 -38.4316\n"
     ]
    }
   ],
   "source": [
    "import numpy as np\n",
    "\n",
    "def callPayoff(spot, strike):\n",
    "    return np.maximum(spot - strike, 0.0)\n",
    "\n",
    "def putPayoff(spot, strike):\n",
    "    return np.maximum(strike - spot, 0.0)\n",
    "\n",
    "r = 0.08              \n",
    "q = 0.0     \n",
    "T = 0.5\n",
    "n = 1.0      \n",
    "S = 100.0      \n",
    "K = 105.0   \n",
    "u = 1.3\n",
    "d = .8\n",
    "h = T/n\n",
    "\n",
    "fu = callPayoff(u * S, K)\n",
    "fd = callPayoff(d * S, K)\n",
    "D = (fu - fd)/(S * (u - d))                        \n",
    "B = np.exp(-r * h) * ((u * fd - d * fu)/ (u - d))   \n",
    "f = S * D + B\n",
    "\n",
    "print(f\"{f:0.4f}\", f\"{D:0.4f}\", f\"{B:0.4f}\")\n",
    "\n",
    "\n",
    "\n"
   ]
  },
  {
   "cell_type": "markdown",
   "metadata": {},
   "source": [
    "Question 1.B"
   ]
  },
  {
   "cell_type": "code",
   "execution_count": 24,
   "metadata": {},
   "outputs": [
    {
     "name": "stdout",
     "output_type": "stream",
     "text": [
      "12.4513 -0.5000 62.4513\n"
     ]
    }
   ],
   "source": [
    "import numpy as np\n",
    "\n",
    "def callPayoff(spot, strike):\n",
    "    return np.maximum(spot - strike, 0.0)\n",
    "\n",
    "def putPayoff(spot, strike):\n",
    "    return np.maximum(strike - spot, 0.0)\n",
    "\n",
    "r = 0.08              \n",
    "q = 0.0     \n",
    "T = 0.5\n",
    "n = 1.0      \n",
    "S = 100.0      \n",
    "K = 105.0   \n",
    "u = 1.3\n",
    "d = .8\n",
    "h = T/n\n",
    "\n",
    "fu = putPayoff(u * S, K)\n",
    "fd = putPayoff(d * S, K)\n",
    "D = (fu - fd)/(S * (u - d))                        \n",
    "B = np.exp(-r * h) * ((u * fd - d * fu)/ (u - d))   \n",
    "f = S * D + B\n",
    "\n",
    "print(f\"{f:0.4f}\", f\"{D:0.4f}\", f\"{B:0.4f}\")"
   ]
  },
  {
   "cell_type": "markdown",
   "metadata": {},
   "source": [
    "Question 2.A"
   ]
  },
  {
   "cell_type": "code",
   "execution_count": 27,
   "metadata": {},
   "outputs": [
    {
     "name": "stdout",
     "output_type": "stream",
     "text": [
      "7.4708 -0.3000 37.4708\n"
     ]
    }
   ],
   "source": [
    "import numpy as np\n",
    "\n",
    "def callPayoff(spot, strike):\n",
    "    return np.maximum(spot - strike, 0.0)\n",
    "\n",
    "def putPayoff(spot, strike):\n",
    "    return np.maximum(strike - spot, 0.0)\n",
    "\n",
    "r = 0.08              \n",
    "q = 0.0     \n",
    "T = 0.5\n",
    "n = 1.0      \n",
    "S = 100.0      \n",
    "K = 95.0   \n",
    "u = 1.3\n",
    "d = .8\n",
    "h = T/n\n",
    "\n",
    "fu = putPayoff(u * S, K)\n",
    "fd = putPayoff(d * S, K)\n",
    "D = (fu - fd)/(S * (u - d))                        \n",
    "B = np.exp(-r * h) * ((u * fd - d * fu)/ (u - d))   \n",
    "f = S * D + B\n",
    "\n",
    "print(f\"{f:0.4f}\", f\"{D:0.4f}\", f\"{B:0.4f}\")"
   ]
  },
  {
   "cell_type": "markdown",
   "metadata": {},
   "source": [
    "Question 2.B\n",
    "\n",
    "Sell option for 16.196 and buy .7 shares by borrowing 53.804. This yields a profit of $.804"
   ]
  },
  {
   "cell_type": "markdown",
   "metadata": {},
   "source": [
    "Question 2.C\n",
    "\n",
    "Buy the option and sell .7 shares then lend 53.804. This yields a profit of $.696"
   ]
  },
  {
   "cell_type": "markdown",
   "metadata": {},
   "source": [
    "Question 3"
   ]
  },
  {
   "cell_type": "code",
   "execution_count": 3,
   "metadata": {},
   "outputs": [
    {
     "name": "stdout",
     "output_type": "stream",
     "text": [
      "Beta at 130: -91.2749967194707\n",
      "Beta at 80: -13.835367923793454\n",
      "Beta at 100: -49.12712403431416\n"
     ]
    }
   ],
   "source": [
    "import numpy as np\n",
    "from scipy.stats import binom\n",
    "\n",
    "def callPayoff(spot, strike):\n",
    "    return np.maximum(spot - strike, 0.0)\n",
    "\n",
    "def putPayoff(spot, strike):\n",
    "    return np.maximum(strike - spot, 0.0)\n",
    "\n",
    "S = 100.0\n",
    "K = 95.0\n",
    "r = 0.08\n",
    "v = 0.30\n",
    "q = 0.0\n",
    "T = 1\n",
    "n = 2\n",
    "h = T / n\n",
    "u = 1.3\n",
    "d = .8\n",
    "pstar = (np.exp((r - q) * h) - d) / (u - d) \n",
    "nodes = n + 1\n",
    "\n",
    "fu = callPayoff(u * S, K)\n",
    "fd = callPayoff(d * S, K)\n",
    "D = (fu - fd)/(S * (u - d))                        \n",
    "B = np.exp(-r * h) * ((u * fd - d * fu)/ (u - d)) \n",
    "\n",
    "\n",
    "def euroBinomPricerRecursiveMatrix(S, K, r, v, q, T, n, payoff, verbose = True):\n",
    "    nodes = n  + 1\n",
    "    h = T / n\n",
    "    u = 1.3\n",
    "    d = .8\n",
    "    pu = (np.exp((r - q) * h) - d) / (u - d)\n",
    "    pd = 1.0 - pu\n",
    "    disc = np.exp(-r * h)\n",
    "    \n",
    "    ## Arrays to store the spot prices and option values\n",
    "    Ct = np.zeros((nodes, n+1))\n",
    "    St = np.zeros((nodes, n+1))\n",
    "    Dt = np.zeros((nodes, n+1))\n",
    "    \n",
    "    for i in range(nodes):\n",
    "        St[i, n] = S * (u**(n-i)) * (d**i)\n",
    "        Ct[i, n] = payoff(St[i,n], K)\n",
    "    \n",
    "\n",
    "    for t in range((n-1), -1, -1):\n",
    "        for j in range(t+1):\n",
    "            St[j, t] = St[j, t+1] / u\n",
    "            Ct[j, t] = disc * ((pu * Ct[j, t+1]) + (pd * Ct[j+1, t+1]))\n",
    "            Dt[j, t] = np.exp(-q * h) * (Ct[j, t+1] - Ct[j+1, t+1]) / (St[j, t] * (u - d))\n",
    "        \n",
    "    if verbose:\n",
    "        print(np.around(St, 3))\n",
    "        print(\"\\n\")\n",
    "        print(np.around(Ct, 3))\n",
    "        print(\"\\n\")\n",
    "        print(np.around(Dt, 3))\n",
    "        print(\"\\n\")\n",
    "                    \n",
    "            \n",
    "    return Ct[0,0]\n",
    "\n",
    "B:130 = print(\"Beta at 130:\", np.exp(-r*h)*((u*9 - d*74)/(u-d))) \n",
    "B:80 = print(\"Beta at 80:\", np.exp(-r*h)*((u*0 - d*9)/(u-d)))\n",
    "B:100 = print(\"Beta at 100:\", np.exp(-r*h)*((u*4.1646 - d*38.7250)/(u-d)))"
   ]
  },
  {
   "cell_type": "code",
   "execution_count": 4,
   "metadata": {},
   "outputs": [
    {
     "name": "stdout",
     "output_type": "stream",
     "text": [
      "[[100. 130. 169.]\n",
      " [  0.  80. 104.]\n",
      " [  0.   0.  64.]]\n",
      "\n",
      "\n",
      "[[19.994 38.725 74.   ]\n",
      " [ 0.     4.165  9.   ]\n",
      " [ 0.     0.     0.   ]]\n",
      "\n",
      "\n",
      "[[0.691 1.    0.   ]\n",
      " [0.    0.225 0.   ]\n",
      " [0.    0.    0.   ]]\n",
      "\n",
      "\n"
     ]
    },
    {
     "data": {
      "text/plain": [
       "19.993693459343987"
      ]
     },
     "execution_count": 4,
     "metadata": {},
     "output_type": "execute_result"
    }
   ],
   "source": [
    "euroBinomPricerRecursiveMatrix(S,K,r,v,q,T,n,callPayoff,verbose = True)"
   ]
  },
  {
   "cell_type": "markdown",
   "metadata": {},
   "source": [
    "Question 4: As the stock price increases, the intial delta increases as well."
   ]
  },
  {
   "cell_type": "code",
   "execution_count": 5,
   "metadata": {},
   "outputs": [
    {
     "name": "stdout",
     "output_type": "stream",
     "text": [
      "Beta at 135.2: -92.50014618854877\n",
      "Beta at 83.2: -20.501927138379823\n",
      "Beta at 51.2: 0.0\n",
      "Beta at 104: -51.793051854476985\n",
      "Beta at 64: -9.064001693298453\n",
      "Beta at 80: -27.71604275019723\n"
     ]
    }
   ],
   "source": [
    "import numpy as np\n",
    "from scipy.stats import binom\n",
    "\n",
    "def callPayoff(spot, strike):\n",
    "    return np.maximum(spot - strike, 0.0)\n",
    "\n",
    "def putPayoff(spot, strike):\n",
    "    return np.maximum(strike - spot, 0.0)\n",
    "\n",
    "S = 80.0\n",
    "K = 95.0\n",
    "r = 0.08\n",
    "v = 0.30\n",
    "q = 0.0\n",
    "T = 1\n",
    "n = 3\n",
    "h = T / n\n",
    "u = 1.3\n",
    "d = .8\n",
    "pstar = (np.exp((r - q) * h) - d) / (u - d) \n",
    "nodes = n + 1\n",
    "\n",
    "fu = callPayoff(u * S, K)\n",
    "fd = callPayoff(d * S, K)\n",
    "D = (fu - fd)/(S * (u - d))                        \n",
    "B = np.exp(-r * h) * ((u * fd - d * fu)/ (u - d)) \n",
    "\n",
    "\n",
    "def euroBinomPricerRecursiveMatrix(S, K, r, v, q, T, n, payoff, verbose = True):\n",
    "    nodes = n  + 1\n",
    "    h = T / n\n",
    "    u = 1.3\n",
    "    d = .8\n",
    "    pu = (np.exp((r - q) * h) - d) / (u - d)\n",
    "    pd = 1.0 - pu\n",
    "    disc = np.exp(-r * h)\n",
    "    \n",
    "    ## Arrays to store the spot prices and option values\n",
    "    Ct = np.zeros((nodes, n+1))\n",
    "    St = np.zeros((nodes, n+1))\n",
    "    Dt = np.zeros((nodes, n+1))\n",
    "    \n",
    "    for i in range(nodes):\n",
    "        St[i, n] = S * (u**(n-i)) * (d**i)\n",
    "        Ct[i, n] = payoff(St[i,n], K)\n",
    "    \n",
    "\n",
    "    for t in range((n-1), -1, -1):\n",
    "        for j in range(t+1):\n",
    "            St[j, t] = St[j, t+1] / u\n",
    "            Ct[j, t] = disc * ((pu * Ct[j, t+1]) + (pd * Ct[j+1, t+1]))\n",
    "            Dt[j, t] = np.exp(-q * h) * (Ct[j, t+1] - Ct[j+1, t+1]) / (St[j, t] * (u - d))\n",
    "        \n",
    "    if verbose:\n",
    "        print(np.around(St, 3))\n",
    "        print(\"\\n\")\n",
    "        print(np.around(Ct, 3))\n",
    "        print(\"\\n\")\n",
    "        print(np.around(Dt, 3))\n",
    "        print(\"\\n\")\n",
    "\n",
    "                    \n",
    "            \n",
    "    return Ct[0,0]\n",
    "B:135.2 = print(\"Beta at 135.2:\", np.exp(-r*h)*((u*13.16 - d*80.76)/(u-d))) \n",
    "B:83.2 = print(\"Beta at 83.2:\", np.exp(-r*h)*((u*0 - d*13.16)/(u-d)))\n",
    "B:51.2 = print(\"Beta at 51.2:\", np.exp(-r*h)*((u*0 - d*0)/(u-d)))\n",
    "B:104 = print(\"Beta at 104:\", np.exp(-r*h)*((u*5.8181 - d*42.6999)/(u-d))) \n",
    "B:64 = print(\"Beta at 64:\", np.exp(-r*h)*((u*0 - d*5.8181)/(u-d)))\n",
    "B:80 = print(\"Beta at 80:\", np.exp(-r*h)*((u*2.5722 - d*21.9705)/(u-d)))"
   ]
  },
  {
   "cell_type": "code",
   "execution_count": 6,
   "metadata": {},
   "outputs": [
    {
     "name": "stdout",
     "output_type": "stream",
     "text": [
      "[[ 80.   104.   135.2  175.76]\n",
      " [  0.    64.    83.2  108.16]\n",
      " [  0.     0.    51.2   66.56]\n",
      " [  0.     0.     0.    40.96]]\n",
      "\n",
      "\n",
      "[[11.081 21.971 42.7   80.76 ]\n",
      " [ 0.     2.572  5.818 13.16 ]\n",
      " [ 0.     0.     0.     0.   ]\n",
      " [ 0.     0.     0.     0.   ]]\n",
      "\n",
      "\n",
      "[[0.485 0.709 1.    0.   ]\n",
      " [0.    0.182 0.316 0.   ]\n",
      " [0.    0.    0.    0.   ]\n",
      " [0.    0.    0.    0.   ]]\n",
      "\n",
      "\n"
     ]
    },
    {
     "data": {
      "text/plain": [
       "11.080555851351969"
      ]
     },
     "execution_count": 6,
     "metadata": {},
     "output_type": "execute_result"
    }
   ],
   "source": [
    "euroBinomPricerRecursiveMatrix(S,K,r,v,q,T,n,callPayoff,verbose = True)"
   ]
  },
  {
   "cell_type": "code",
   "execution_count": 7,
   "metadata": {},
   "outputs": [
    {
     "name": "stdout",
     "output_type": "stream",
     "text": [
      "Beta at 152.1: -92.5001461885488\n",
      "Beta at 93.6: -41.56469726838706\n",
      "Beta at 57.6: 0.0\n",
      "Beta at 117: -52.084456525543395\n",
      "Beta at 72: -18.375864830952242\n",
      "Beta at 90: -37.61622629132517\n"
     ]
    }
   ],
   "source": [
    "import numpy as np\n",
    "from scipy.stats import binom\n",
    "\n",
    "def callPayoff(spot, strike):\n",
    "    return np.maximum(spot - strike, 0.0)\n",
    "\n",
    "def putPayoff(spot, strike):\n",
    "    return np.maximum(strike - spot, 0.0)\n",
    "\n",
    "S = 90.0\n",
    "K = 95.0\n",
    "r = 0.08\n",
    "v = 0.30\n",
    "q = 0.0\n",
    "T = 1\n",
    "n = 3\n",
    "h = T / n\n",
    "u = 1.3\n",
    "d = .8\n",
    "pstar = (np.exp((r - q) * h) - d) / (u - d) \n",
    "nodes = n + 1\n",
    "\n",
    "fu = callPayoff(u * S, K)\n",
    "fd = callPayoff(d * S, K)\n",
    "D = (fu - fd)/(S * (u - d))                        \n",
    "B = np.exp(-r * h) * ((u * fd - d * fu)/ (u - d)) \n",
    "\n",
    "\n",
    "def euroBinomPricerRecursiveMatrix(S, K, r, v, q, T, n, payoff, verbose = True):\n",
    "    nodes = n  + 1\n",
    "    h = T / n\n",
    "    u = 1.3\n",
    "    d = .8\n",
    "    pu = (np.exp((r - q) * h) - d) / (u - d)\n",
    "    pd = 1.0 - pu\n",
    "    disc = np.exp(-r * h)\n",
    "    \n",
    "    ## Arrays to store the spot prices and option values\n",
    "    Ct = np.zeros((nodes, n+1))\n",
    "    St = np.zeros((nodes, n+1))\n",
    "    Dt = np.zeros((nodes, n+1))\n",
    "    \n",
    "    for i in range(nodes):\n",
    "        St[i, n] = S * (u**(n-i)) * (d**i)\n",
    "        Ct[i, n] = payoff(St[i,n], K)\n",
    "    \n",
    "\n",
    "    for t in range((n-1), -1, -1):\n",
    "        for j in range(t+1):\n",
    "            St[j, t] = St[j, t+1] / u\n",
    "            Ct[j, t] = disc * ((pu * Ct[j, t+1]) + (pd * Ct[j+1, t+1]))\n",
    "            Dt[j, t] = np.exp(-q * h) * (Ct[j, t+1] - Ct[j+1, t+1]) / (St[j, t] * (u - d))\n",
    " \n",
    "        \n",
    "    if verbose:\n",
    "        print(np.around(St, 3))\n",
    "        print(\"\\n\")\n",
    "        print(np.around(Ct, 3))\n",
    "        print(\"\\n\")\n",
    "        print(np.around(Dt, 3))\n",
    "        print(\"\\n\")\n",
    "\n",
    "                    \n",
    "            \n",
    "    return Ct[0,0]\n",
    "\n",
    "B:152.1 = print(\"Beta at 152.1:\", np.exp(-r*h)*((u*26.68 - d*102.73)/(u-d))) \n",
    "B:93.6 = print(\"Beta at 93.6:\", np.exp(-r*h)*((u*0 - d*26.68)/(u-d)))\n",
    "B:57.6 = print(\"Beta at 57.6:\", np.exp(-r*h)*((u*0 - d*0)/(u-d)))\n",
    "B:117 = print(\"Beta at 117:\", np.exp(-r*h)*((u*11.7953 - d*52.5999)/(u-d))) \n",
    "B:72 = print(\"Beta at 72:\", np.exp(-r*h)*((u*0 - d*11.7953)/(u-d)))\n",
    "B:90 = print(\"Beta at 90:\", np.exp(-r*h)*((u*5.2147 - d*32.6194)/(u-d)))"
   ]
  },
  {
   "cell_type": "code",
   "execution_count": 8,
   "metadata": {},
   "outputs": [
    {
     "name": "stdout",
     "output_type": "stream",
     "text": [
      "[[ 90.   117.   152.1  197.73]\n",
      " [  0.    72.    93.6  121.68]\n",
      " [  0.     0.    57.6   74.88]\n",
      " [  0.     0.     0.    46.08]]\n",
      "\n",
      "\n",
      "[[ 17.193  32.619  59.6   102.73 ]\n",
      " [  0.      5.215  11.795  26.68 ]\n",
      " [  0.      0.      0.      0.   ]\n",
      " [  0.      0.      0.      0.   ]]\n",
      "\n",
      "\n",
      "[[0.609 0.817 1.    0.   ]\n",
      " [0.    0.328 0.57  0.   ]\n",
      " [0.    0.    0.    0.   ]\n",
      " [0.    0.    0.    0.   ]]\n",
      "\n",
      "\n"
     ]
    },
    {
     "data": {
      "text/plain": [
       "17.193212548696497"
      ]
     },
     "execution_count": 8,
     "metadata": {},
     "output_type": "execute_result"
    }
   ],
   "source": [
    "euroBinomPricerRecursiveMatrix(S,K,r,v,q,T,n,callPayoff,verbose = True)"
   ]
  },
  {
   "cell_type": "code",
   "execution_count": 9,
   "metadata": {},
   "outputs": [
    {
     "name": "stdout",
     "output_type": "stream",
     "text": [
      "Beta at 185.9: -92.50014618854877\n",
      "Beta at 114.4: -83.69023752840151\n",
      "Beta at 70.4: 0.0\n",
      "Beta at 143: -85.38269809792716\n",
      "Beta at 88: -36.99974689597972\n",
      "Beta at 110: -57.416496005006124\n"
     ]
    }
   ],
   "source": [
    "import numpy as np\n",
    "from scipy.stats import binom\n",
    "\n",
    "def callPayoff(spot, strike):\n",
    "    return np.maximum(spot - strike, 0.0)\n",
    "\n",
    "def putPayoff(spot, strike):\n",
    "    return np.maximum(strike - spot, 0.0)\n",
    "\n",
    "S = 110.0\n",
    "K = 95.0\n",
    "r = 0.08\n",
    "v = 0.30\n",
    "q = 0.0\n",
    "T = 1\n",
    "n = 3\n",
    "h = T / n\n",
    "u = 1.3\n",
    "d = .8\n",
    "pstar = (np.exp((r - q) * h) - d) / (u - d) \n",
    "nodes = n + 1\n",
    "\n",
    "fu = callPayoff(u * S, K)\n",
    "fd = callPayoff(d * S, K)\n",
    "D = (fu - fd)/(S * (u - d))                        \n",
    "B = np.exp(-r * h) * ((u * fd - d * fu)/ (u - d)) \n",
    "\n",
    "\n",
    "def euroBinomPricerRecursiveMatrix(S, K, r, v, q, T, n, payoff, verbose = True):\n",
    "    nodes = n  + 1\n",
    "    h = T / n\n",
    "    u = 1.3\n",
    "    d = .8\n",
    "    pu = (np.exp((r - q) * h) - d) / (u - d)\n",
    "    pd = 1.0 - pu\n",
    "    disc = np.exp(-r * h)\n",
    "    \n",
    "    ## Arrays to store the spot prices and option values\n",
    "    Ct = np.zeros((nodes, n+1))\n",
    "    St = np.zeros((nodes, n+1))\n",
    "    Dt = np.zeros((nodes, n+1))\n",
    "    \n",
    "    for i in range(nodes):\n",
    "        St[i, n] = S * (u**(n-i)) * (d**i)\n",
    "        Ct[i, n] = payoff(St[i,n], K)\n",
    "    \n",
    "\n",
    "    for t in range((n-1), -1, -1):\n",
    "        for j in range(t+1):\n",
    "            St[j, t] = St[j, t+1] / u\n",
    "            Ct[j, t] = disc * ((pu * Ct[j, t+1]) + (pd * Ct[j+1, t+1]))\n",
    "            Dt[j, t] = np.exp(-q * h) * (Ct[j, t+1] - Ct[j+1, t+1]) / (St[j, t] * (u - d))\n",
    " \n",
    "        \n",
    "    if verbose:\n",
    "        print(np.around(St, 3))\n",
    "        print(\"\\n\")\n",
    "        print(np.around(Ct, 3))\n",
    "        print(\"\\n\")\n",
    "        print(np.around(Dt, 3))\n",
    "        print(\"\\n\")\n",
    "\n",
    "                    \n",
    "            \n",
    "    return Ct[0,0]\n",
    "\n",
    "B:185.9 = print(\"Beta at 185.9:\", np.exp(-r*h)*((u*53.72 - d*146.67)/(u-d))) \n",
    "B:114.4 = print(\"Beta at 114.4:\", np.exp(-r*h)*((u*0 - d*53.72)/(u-d)))\n",
    "B:70.4 = print(\"Beta at 70.4:\", np.exp(-r*h)*((u*0 - d*0)/(u-d)))\n",
    "B:143 = print(\"Beta at 143:\", np.exp(-r*h)*((u*23.7498 - d*93.3998)/(u-d))) \n",
    "B:88 = print(\"Beta at 88:\", np.exp(-r*h)*((u*0 - d*23.7498)/(u-d)))\n",
    "B:110 = print(\"Beta at 110:\", np.exp(-r*h)*((u*10.4998 - d*53.9173)/(u-d)))"
   ]
  },
  {
   "cell_type": "code",
   "execution_count": 10,
   "metadata": {},
   "outputs": [
    {
     "name": "stdout",
     "output_type": "stream",
     "text": [
      "[[110.   143.   185.9  241.67]\n",
      " [  0.    88.   114.4  148.72]\n",
      " [  0.     0.    70.4   91.52]\n",
      " [  0.     0.     0.    56.32]]\n",
      "\n",
      "\n",
      "[[ 29.419  53.917  93.4   146.67 ]\n",
      " [  0.     10.5    23.75   53.72 ]\n",
      " [  0.      0.      0.      0.   ]\n",
      " [  0.      0.      0.      0.   ]]\n",
      "\n",
      "\n",
      "[[0.789 0.974 1.    0.   ]\n",
      " [0.    0.54  0.939 0.   ]\n",
      " [0.    0.    0.    0.   ]\n",
      " [0.    0.    0.    0.   ]]\n",
      "\n",
      "\n"
     ]
    },
    {
     "data": {
      "text/plain": [
       "29.418525943385543"
      ]
     },
     "execution_count": 10,
     "metadata": {},
     "output_type": "execute_result"
    }
   ],
   "source": [
    "euroBinomPricerRecursiveMatrix(S,K,r,v,q,T,n,callPayoff,verbose = True)"
   ]
  },
  {
   "cell_type": "code",
   "execution_count": 11,
   "metadata": {},
   "outputs": [
    {
     "name": "stdout",
     "output_type": "stream",
     "text": [
      "Beta at 202.8: -92.5001461885488\n",
      "Beta at 124.8: -92.50014618854877\n",
      "Beta at 76.8: -7.540222442990754\n",
      "Beta at 156: -90.06602918374084\n",
      "Beta at 96: -44.90284254403941\n",
      "Beta at 120: -63.69741172092848\n"
     ]
    }
   ],
   "source": [
    "import numpy as np\n",
    "from scipy.stats import binom\n",
    "\n",
    "def callPayoff(spot, strike):\n",
    "    return np.maximum(spot - strike, 0.0)\n",
    "\n",
    "def putPayoff(spot, strike):\n",
    "    return np.maximum(strike - spot, 0.0)\n",
    "\n",
    "S = 120.0\n",
    "K = 95.0\n",
    "r = 0.08\n",
    "v = 0.30\n",
    "q = 0.0\n",
    "T = 1\n",
    "n = 3\n",
    "h = T / n\n",
    "u = 1.3\n",
    "d = .8\n",
    "pstar = (np.exp((r - q) * h) - d) / (u - d) \n",
    "nodes = n + 1\n",
    "\n",
    "fu = callPayoff(u * S, K)\n",
    "fd = callPayoff(d * S, K)\n",
    "D = (fu - fd)/(S * (u - d))                        \n",
    "B = np.exp(-r * h) * ((u * fd - d * fu)/ (u - d)) \n",
    "\n",
    "\n",
    "def euroBinomPricerRecursiveMatrix(S, K, r, v, q, T, n, payoff, verbose = True):\n",
    "    nodes = n  + 1\n",
    "    h = T / n\n",
    "    u = 1.3\n",
    "    d = .8\n",
    "    pu = (np.exp((r - q) * h) - d) / (u - d)\n",
    "    pd = 1.0 - pu\n",
    "    disc = np.exp(-r * h)\n",
    "    \n",
    "    ## Arrays to store the spot prices and option values\n",
    "    Ct = np.zeros((nodes, n+1))\n",
    "    St = np.zeros((nodes, n+1))\n",
    "    Dt = np.zeros((nodes, n+1))\n",
    "    \n",
    "    for i in range(nodes):\n",
    "        St[i, n] = S * (u**(n-i)) * (d**i)\n",
    "        Ct[i, n] = payoff(St[i,n], K)\n",
    "    \n",
    "\n",
    "    for t in range((n-1), -1, -1):\n",
    "        for j in range(t+1):\n",
    "            St[j, t] = St[j, t+1] / u\n",
    "            Ct[j, t] = disc * ((pu * Ct[j, t+1]) + (pd * Ct[j+1, t+1]))\n",
    "            Dt[j, t] = np.exp(-q * h) * (Ct[j, t+1] - Ct[j+1, t+1]) / (St[j, t] * (u - d))\n",
    " \n",
    "        \n",
    "    if verbose:\n",
    "        print(np.around(St, 3))\n",
    "        print(\"\\n\")\n",
    "        print(np.around(Ct, 3))\n",
    "        print(\"\\n\")\n",
    "        print(np.around(Dt, 3))\n",
    "        print(\"\\n\")\n",
    "\n",
    "                    \n",
    "            \n",
    "    return Ct[0,0]\n",
    "\n",
    "B:202.8 = print(\"Beta at 202.8:\", np.exp(-r*h)*((u*67.24 - d*168.64)/(u-d))) \n",
    "B:124.8 = print(\"Beta at 124.8:\", np.exp(-r*h)*((u*4.84 - d*67.24)/(u-d)))\n",
    "B:76.8 = print(\"Beta at 76.8:\", np.exp(-r*h)*((u*0 - d*4.84)/(u-d)))\n",
    "B:156 = print(\"Beta at 156:\", np.exp(-r*h)*((u*32.2999 - d*110.2999)/(u-d))) \n",
    "B:96 = print(\"Beta at 96:\", np.exp(-r*h)*((u*2.1398 - d*32.2999)/(u-d)))\n",
    "B:120 = print(\"Beta at 120:\", np.exp(-r*h)*((u*15.4173 - d*65.9399)/(u-d)))"
   ]
  },
  {
   "cell_type": "code",
   "execution_count": 12,
   "metadata": {},
   "outputs": [
    {
     "name": "stdout",
     "output_type": "stream",
     "text": [
      "[[120.   156.   202.8  263.64]\n",
      " [  0.    96.   124.8  162.24]\n",
      " [  0.     0.    76.8   99.84]\n",
      " [  0.     0.     0.    61.44]]\n",
      "\n",
      "\n",
      "[[ 37.345  65.934 110.3   168.64 ]\n",
      " [  0.     15.417  32.3    67.24 ]\n",
      " [  0.      0.      2.14    4.84 ]\n",
      " [  0.      0.      0.      0.   ]]\n",
      "\n",
      "\n",
      "[[0.842 1.    1.    0.   ]\n",
      " [0.    0.628 1.    0.   ]\n",
      " [0.    0.    0.126 0.   ]\n",
      " [0.    0.    0.    0.   ]]\n",
      "\n",
      "\n"
     ]
    },
    {
     "data": {
      "text/plain": [
       "37.34516043327331"
      ]
     },
     "execution_count": 12,
     "metadata": {},
     "output_type": "execute_result"
    }
   ],
   "source": [
    "euroBinomPricerRecursiveMatrix(S,K,r,v,q,T,n,callPayoff,verbose = True)"
   ]
  },
  {
   "cell_type": "code",
   "execution_count": 13,
   "metadata": {},
   "outputs": [
    {
     "name": "stdout",
     "output_type": "stream",
     "text": [
      "Beta at 219.7: -92.5001461885488\n",
      "Beta at 135.2: -92.50014618854877\n",
      "Beta at 83.2: -20.501927138379823\n",
      "Beta at 169: -90.06602918374087\n",
      "Beta at 104: -51.793051854476985\n",
      "Beta at 130: -67.35075854736144\n"
     ]
    }
   ],
   "source": [
    "import numpy as np\n",
    "from scipy.stats import binom\n",
    "\n",
    "def callPayoff(spot, strike):\n",
    "    return np.maximum(spot - strike, 0.0)\n",
    "\n",
    "def putPayoff(spot, strike):\n",
    "    return np.maximum(strike - spot, 0.0)\n",
    "\n",
    "S = 130.0\n",
    "K = 95.0\n",
    "r = 0.08\n",
    "v = 0.30\n",
    "q = 0.0\n",
    "T = 1\n",
    "n = 3\n",
    "h = T / n\n",
    "u = 1.3\n",
    "d = .8\n",
    "pstar = (np.exp((r - q) * h) - d) / (u - d) \n",
    "nodes = n + 1\n",
    "\n",
    "fu = callPayoff(u * S, K)\n",
    "fd = callPayoff(d * S, K)\n",
    "D = (fu - fd)/(S * (u - d))                        \n",
    "B = np.exp(-r * h) * ((u * fd - d * fu)/ (u - d)) \n",
    "\n",
    "\n",
    "def euroBinomPricerRecursiveMatrix(S, K, r, v, q, T, n, payoff, verbose = True):\n",
    "    nodes = n  + 1\n",
    "    h = T / n\n",
    "    u = 1.3\n",
    "    d = .8\n",
    "    pu = (np.exp((r - q) * h) - d) / (u - d)\n",
    "    pd = 1.0 - pu\n",
    "    disc = np.exp(-r * h)\n",
    "    \n",
    "    ## Arrays to store the spot prices and option values\n",
    "    Ct = np.zeros((nodes, n+1))\n",
    "    St = np.zeros((nodes, n+1))\n",
    "    Dt = np.zeros((nodes, n+1))\n",
    "    \n",
    "    for i in range(nodes):\n",
    "        St[i, n] = S * (u**(n-i)) * (d**i)\n",
    "        Ct[i, n] = payoff(St[i,n], K)\n",
    "    \n",
    "\n",
    "    for t in range((n-1), -1, -1):\n",
    "        for j in range(t+1):\n",
    "            St[j, t] = St[j, t+1] / u\n",
    "            Ct[j, t] = disc * ((pu * Ct[j, t+1]) + (pd * Ct[j+1, t+1]))\n",
    "            Dt[j, t] = np.exp(-q * h) * (Ct[j, t+1] - Ct[j+1, t+1]) / (St[j, t] * (u - d))\n",
    " \n",
    "        \n",
    "    if verbose:\n",
    "        print(np.around(St, 3))\n",
    "        print(\"\\n\")\n",
    "        print(np.around(Ct, 3))\n",
    "        print(\"\\n\")\n",
    "        print(np.around(Dt, 3))\n",
    "        print(\"\\n\")\n",
    "\n",
    "                    \n",
    "            \n",
    "    return Ct[0,0]\n",
    "\n",
    "B:219.7 = print(\"Beta at 219.7:\", np.exp(-r*h)*((u*80.76 - d*190.61)/(u-d))) \n",
    "B:135.2 = print(\"Beta at 135.2:\", np.exp(-r*h)*((u*13.16 - d*80.76)/(u-d)))\n",
    "B:83.2 = print(\"Beta at 83.2:\", np.exp(-r*h)*((u*0 - d*13.16)/(u-d)))\n",
    "B:169 = print(\"Beta at 169:\", np.exp(-r*h)*((u*42.6999 - d*127.1999)/(u-d))) \n",
    "B:104 = print(\"Beta at 104:\", np.exp(-r*h)*((u*5.8181 - d*42.6999)/(u-d)))\n",
    "B:130 = print(\"Beta at 130:\", np.exp(-r*h)*((u*21.9705 - d*78.9339)/(u-d)))"
   ]
  },
  {
   "cell_type": "code",
   "execution_count": 14,
   "metadata": {},
   "outputs": [
    {
     "name": "stdout",
     "output_type": "stream",
     "text": [
      "[[130.   169.   219.7  285.61]\n",
      " [  0.   104.   135.2  175.76]\n",
      " [  0.     0.    83.2  108.16]\n",
      " [  0.     0.     0.    66.56]]\n",
      "\n",
      "\n",
      "[[ 46.576  78.934 127.2   190.61 ]\n",
      " [  0.     21.971  42.7    80.76 ]\n",
      " [  0.      0.      5.818  13.16 ]\n",
      " [  0.      0.      0.      0.   ]]\n",
      "\n",
      "\n",
      "[[0.876 1.    1.    0.   ]\n",
      " [0.    0.709 1.    0.   ]\n",
      " [0.    0.    0.316 0.   ]\n",
      " [0.    0.    0.    0.   ]]\n",
      "\n",
      "\n"
     ]
    },
    {
     "data": {
      "text/plain": [
       "46.57605994755165"
      ]
     },
     "execution_count": 14,
     "metadata": {},
     "output_type": "execute_result"
    }
   ],
   "source": [
    "euroBinomPricerRecursiveMatrix(S,K,r,v,q,T,n,callPayoff,verbose = True)"
   ]
  },
  {
   "cell_type": "markdown",
   "metadata": {},
   "source": [
    "Question 5a.\n",
    "There isn't any early exercise"
   ]
  },
  {
   "cell_type": "code",
   "execution_count": 36,
   "metadata": {},
   "outputs": [],
   "source": [
    "import numpy as np\n",
    "\n",
    "def callPayoff(spot, strike):\n",
    "    return np.maximum(spot - strike, 0.0)\n",
    "\n",
    "def putPayoff(spot, strike):\n",
    "    return np.maximum(strike - spot, 0.0)\n",
    "\n",
    "S = 100.0\n",
    "K = 95.0\n",
    "r = 0.08\n",
    "v = 0.30\n",
    "q = 0.0\n",
    "T = 1\n",
    "n = 3\n",
    "h = T / n\n",
    "u = np.exp((r - q) * h + v * np.sqrt(h))\n",
    "d = np.exp((r - q) * h - v * np.sqrt(h))\n",
    "pstar = (np.exp((r - q) * h) - d) / (u - d)\n",
    "nodes = n + 1\n",
    "\n",
    "def binomialPricer(S, K, r, v, q, T, n, payoff, verbose = True):\n",
    "    nodes = n  + 1\n",
    "    h = T / n\n",
    "    u = np.exp((r - q) * h + v * np.sqrt(h))\n",
    "    d = np.exp((r - q) * h - v * np.sqrt(h))\n",
    "    pstar = (np.exp((r - q) * h) - d) / (u - d)\n",
    "    \n",
    "    price = 0.0\n",
    "    \n",
    "    for i in range(nodes):\n",
    "        prob = binom.pmf(i, n, pstar)\n",
    "        spotT = S * (u ** i) * (d ** (n - i))\n",
    "        po = payoff(spotT, K) \n",
    "        price += po * prob\n",
    "        if verbose:\n",
    "            print(f\"({spotT:0.4f}, {po:0.4f}, {prob:0.4f})\")\n",
    "        \n",
    "    price *= np.exp(-r * T)\n",
    "    \n",
    "    return price\n",
    "    "
   ]
  },
  {
   "cell_type": "code",
   "execution_count": 37,
   "metadata": {},
   "outputs": [
    {
     "name": "stdout",
     "output_type": "stream",
     "text": [
      "(64.4284, 0.0000, 0.1603)\n",
      "(91.1007, 0.0000, 0.4044)\n",
      "(128.8147, 33.8147, 0.3400)\n",
      "(182.1418, 87.1418, 0.0953)\n"
     ]
    },
    {
     "data": {
      "text/plain": [
       "18.282552207370557"
      ]
     },
     "execution_count": 37,
     "metadata": {},
     "output_type": "execute_result"
    }
   ],
   "source": [
    "binomialPricer(S,K,r,v,q,T,n,callPayoff,verbose = True)"
   ]
  },
  {
   "cell_type": "markdown",
   "metadata": {},
   "source": [
    "Question 5b.\n",
    "Both the American and European call options have the same price"
   ]
  },
  {
   "cell_type": "code",
   "execution_count": 38,
   "metadata": {},
   "outputs": [],
   "source": [
    "import numpy as np\n",
    "\n",
    "def callPayoff(spot, strike):\n",
    "    return np.maximum(spot - strike, 0.0)\n",
    "\n",
    "def putPayoff(spot, strike):\n",
    "    return np.maximum(strike - spot, 0.0)\n",
    "\n",
    "S = 100.0\n",
    "K = 95.0\n",
    "r = 0.08\n",
    "v = 0.30\n",
    "q = 0.0\n",
    "T = 1\n",
    "n = 3\n",
    "h = T / n\n",
    "u = np.exp((r - q) * h + v * np.sqrt(h))\n",
    "d = np.exp((r - q) * h - v * np.sqrt(h))\n",
    "pstar = (np.exp((r - q) * h) - d) / (u - d)\n",
    "nodes = n + 1\n",
    "\n",
    "def binomialPricer(S, K, r, v, q, T, n, payoff, verbose = True):\n",
    "    nodes = n  + 1\n",
    "    h = T / n\n",
    "    u = np.exp((r - q) * h + v * np.sqrt(h))\n",
    "    d = np.exp((r - q) * h - v * np.sqrt(h))\n",
    "    pstar = (np.exp((r - q) * h) - d) / (u - d)\n",
    "    \n",
    "    price = 0.0\n",
    "    \n",
    "    for i in range(nodes):\n",
    "        prob = binom.pmf(i, n, pstar)\n",
    "        spotT = S * (u ** i) * (d ** (n - i))\n",
    "        po = payoff(spotT, K) \n",
    "        price += po * prob\n",
    "        if verbose:\n",
    "            print(f\"({spotT:0.4f}, {po:0.4f}, {prob:0.4f})\")\n",
    "        \n",
    "    price *= np.exp(-r * T)\n",
    "    \n",
    "    return price"
   ]
  },
  {
   "cell_type": "code",
   "execution_count": 39,
   "metadata": {},
   "outputs": [
    {
     "name": "stdout",
     "output_type": "stream",
     "text": [
      "(64.4284, 0.0000, 0.1603)\n",
      "(91.1007, 0.0000, 0.4044)\n",
      "(128.8147, 33.8147, 0.3400)\n",
      "(182.1418, 87.1418, 0.0953)\n"
     ]
    },
    {
     "data": {
      "text/plain": [
       "18.282552207370557"
      ]
     },
     "execution_count": 39,
     "metadata": {},
     "output_type": "execute_result"
    }
   ],
   "source": [
    "binomialPricer(S,K,r,v,q,T,n,callPayoff,verbose = True)"
   ]
  },
  {
   "cell_type": "markdown",
   "metadata": {},
   "source": [
    "Question 5c.\n",
    "Put-call parity does hold: 12.3039"
   ]
  },
  {
   "cell_type": "code",
   "execution_count": 40,
   "metadata": {},
   "outputs": [],
   "source": [
    "import numpy as np\n",
    "\n",
    "def callPayoff(spot, strike):\n",
    "    return np.maximum(spot - strike, 0.0)\n",
    "\n",
    "def putPayoff(spot, strike):\n",
    "    return np.maximum(strike - spot, 0.0)\n",
    "\n",
    "S = 100.0\n",
    "K = 95.0\n",
    "r = 0.08\n",
    "v = 0.30\n",
    "q = 0.0\n",
    "T = 1\n",
    "n = 3\n",
    "h = T / n\n",
    "u = np.exp((r - q) * h + v * np.sqrt(h))\n",
    "d = np.exp((r - q) * h - v * np.sqrt(h))\n",
    "pstar = (np.exp((r - q) * h) - d) / (u - d)\n",
    "nodes = n + 1\n",
    "\n",
    "def binomialPricer(S, K, r, v, q, T, n, payoff, verbose = True):\n",
    "    nodes = n  + 1\n",
    "    h = T / n\n",
    "    u = np.exp((r - q) * h + v * np.sqrt(h))\n",
    "    d = np.exp((r - q) * h - v * np.sqrt(h))\n",
    "    pstar = (np.exp((r - q) * h) - d) / (u - d)\n",
    "    \n",
    "    price = 0.0\n",
    "    \n",
    "    for i in range(nodes):\n",
    "        prob = binom.pmf(i, n, pstar)\n",
    "        spotT = S * (u ** i) * (d ** (n - i))\n",
    "        po = payoff(spotT, K) \n",
    "        price += po * prob\n",
    "        if verbose:\n",
    "            print(f\"({spotT:0.4f}, {po:0.4f}, {prob:0.4f})\")\n",
    "        \n",
    "    price *= np.exp(-r * T)\n",
    "    \n",
    "    return price"
   ]
  },
  {
   "cell_type": "code",
   "execution_count": 41,
   "metadata": {},
   "outputs": [
    {
     "name": "stdout",
     "output_type": "stream",
     "text": [
      "(64.4284, 30.5716, 0.1603)\n",
      "(91.1007, 3.8993, 0.4044)\n",
      "(128.8147, 0.0000, 0.3400)\n",
      "(182.1418, 0.0000, 0.0953)\n"
     ]
    },
    {
     "data": {
      "text/plain": [
       "5.9786051141009695"
      ]
     },
     "execution_count": 41,
     "metadata": {},
     "output_type": "execute_result"
    }
   ],
   "source": [
    "binomialPricer(S,K,r,v,q,T,n,putPayoff,verbose = True)"
   ]
  },
  {
   "cell_type": "markdown",
   "metadata": {},
   "source": [
    "Question 5d. "
   ]
  },
  {
   "cell_type": "code",
   "execution_count": 42,
   "metadata": {},
   "outputs": [],
   "source": [
    "import numpy as np\n",
    "\n",
    "def callPayoff(spot, strike):\n",
    "    return np.maximum(spot - strike, 0.0)\n",
    "\n",
    "def putPayoff(spot, strike):\n",
    "    return np.maximum(strike - spot, 0.0)\n",
    "\n",
    "S = 100.0\n",
    "K = 95.0\n",
    "r = 0.08\n",
    "v = 0.30\n",
    "q = 0.0\n",
    "T = 1\n",
    "n = 3\n",
    "h = T / n\n",
    "u = np.exp((r - q) * h + v * np.sqrt(h))\n",
    "d = np.exp((r - q) * h - v * np.sqrt(h))\n",
    "pstar = (np.exp((r - q) * h) - d) / (u - d)\n",
    "nodes = n + 1\n",
    "\n",
    "def amerBinomPricerRecursive(S, K, r, v, q, T, n, payoff, verbose = True):\n",
    "    nodes = n  + 1\n",
    "    h = T / n\n",
    "    u = np.exp((r - q) * h + v * np.sqrt(h))\n",
    "    d = np.exp((r - q) * h - v * np.sqrt(h))\n",
    "    pu = (np.exp((r - q) * h) - d) / (u - d)\n",
    "    pd = 1.0 - pu\n",
    "    disc = np.exp(-r * h)\n",
    "    \n",
    "    \n",
    "    ## Arrays to store the spot prices and option values\n",
    "    Ct = np.empty(nodes)\n",
    "    St = np.empty(nodes)\n",
    "    \n",
    "    for i in range(nodes):\n",
    "        St[i] = S * (u ** (n - i)) * (d ** i)\n",
    "        Ct[i] = payoff(St[i], K)\n",
    "    \n",
    "    if verbose:\n",
    "        print(Ct)\n",
    "        \n",
    "    for t in range((n - 1), -1, -1):\n",
    "        for j in range(t+1):\n",
    "            Ct[j] = disc * (pu * Ct[j] + pd * Ct[j+1])\n",
    "            St[j] = St[j] / u\n",
    "            Ct[j] = np.maximum(Ct[j], K-St[j])\n",
    "            print(Ct)\n",
    "            \n",
    "    return Ct[0]"
   ]
  },
  {
   "cell_type": "code",
   "execution_count": 43,
   "metadata": {},
   "outputs": [
    {
     "name": "stdout",
     "output_type": "stream",
     "text": [
      "[ 0.          0.          3.89933488 30.57157332]\n",
      "[ 0.          0.          3.89933488 30.57157332]\n",
      "[ 0.          2.06235672  3.89933488 30.57157332]\n",
      "[ 0.          2.06235672 20.40351726 30.57157332]\n",
      "[ 1.09077967  2.06235672 20.40351726 30.57157332]\n",
      "[ 1.09077967 11.7087201  20.40351726 30.57157332]\n",
      "[ 6.67790123 11.7087201  20.40351726 30.57157332]\n"
     ]
    },
    {
     "data": {
      "text/plain": [
       "6.677901227132065"
      ]
     },
     "execution_count": 43,
     "metadata": {},
     "output_type": "execute_result"
    }
   ],
   "source": [
    "amerBinomPricerRecursive(S,K,r,v,q,T,n,putPayoff,verbose = True)"
   ]
  },
  {
   "cell_type": "markdown",
   "metadata": {},
   "source": [
    "The reason the prices differ is because of the option to exercise early."
   ]
  },
  {
   "cell_type": "markdown",
   "metadata": {},
   "source": [
    "Question 6a."
   ]
  },
  {
   "cell_type": "code",
   "execution_count": 58,
   "metadata": {},
   "outputs": [
    {
     "name": "stdout",
     "output_type": "stream",
     "text": [
      "1.1454617381452392\n",
      "0.8966038495199921\n"
     ]
    }
   ],
   "source": [
    "import numpy as np\n",
    "from scipy.stats import binom\n",
    "\n",
    "def callPayoff(spot, strike):\n",
    "    return np.maximum(spot - strike, 0.0)\n",
    "\n",
    "def putPayoff(spot, strike):\n",
    "    return np.maximum(strike - spot, 0.0)\n",
    "\n",
    "S = 40.0\n",
    "K = 40.0\n",
    "r = 0.08\n",
    "v = 0.30\n",
    "q = 0.0\n",
    "T = .5\n",
    "n = 3\n",
    "h = T / n\n",
    "u = np.exp((r - q) * h + v * np.sqrt(h))\n",
    "d = np.exp((r - q) * h - v * np.sqrt(h))\n",
    "pstar = (np.exp((r - q) * h) - d) / (u - d) \n",
    "nodes = n + 1\n",
    "\n",
    "fu = callPayoff(u * S, K)\n",
    "fd = callPayoff(d * S, K)\n",
    "D = (fu - fd)/(S * (u - d))                        \n",
    "B = np.exp(-r * h) * ((u * fd - d * fu)/ (u - d)) \n",
    "\n",
    "\n",
    "def euroBinomPricerRecursiveMatrix(S, K, r, v, q, T, n, payoff, verbose = True):\n",
    "    nodes = n  + 1\n",
    "    h = T / n\n",
    "    u = np.exp((r - q) * h + v * np.sqrt(h))\n",
    "    d = np.exp((r - q) * h - v * np.sqrt(h))\n",
    "    pu = (np.exp((r - q) * h) - d) / (u - d)\n",
    "    pd = 1.0 - pu\n",
    "    disc = np.exp(-r * h)\n",
    "    \n",
    "    ## Arrays to store the spot prices and option values\n",
    "    St = np.zeros((nodes, n+1))\n",
    "    \n",
    "    for i in range(nodes):\n",
    "        St[i, n] = S * (u**(n-i)) * (d**i)\n",
    "        \n",
    "    \n",
    "    for t in range((n-1), -1, -1):\n",
    "        for j in range(t+1):\n",
    "            St[j, t] = St[j, t+1] / u\n",
    "        \n",
    "\n",
    "    if verbose:\n",
    "        print(St)\n",
    "        print(\"\\n\")\n",
    "                    \n",
    "print(u)\n",
    "print(d)\n",
    "            "
   ]
  },
  {
   "cell_type": "code",
   "execution_count": 59,
   "metadata": {},
   "outputs": [
    {
     "name": "stdout",
     "output_type": "stream",
     "text": [
      "[[40.         45.81846953 52.48330374 60.11761633]\n",
      " [ 0.         35.86415398 41.08101616 47.05673217]\n",
      " [ 0.          0.         32.15593852 36.83339723]\n",
      " [ 0.          0.          0.         28.83113826]]\n",
      "\n",
      "\n"
     ]
    }
   ],
   "source": [
    "euroBinomPricerRecursiveMatrix(S,K,r,v,q,T,n,callPayoff,verbose = True)"
   ]
  },
  {
   "cell_type": "markdown",
   "metadata": {},
   "source": [
    "Question 6b. American Put"
   ]
  },
  {
   "cell_type": "code",
   "execution_count": 57,
   "metadata": {},
   "outputs": [],
   "source": [
    "import numpy as np\n",
    "\n",
    "def callPayoff(spot, strike):\n",
    "    return np.maximum(spot - strike, 0.0)\n",
    "\n",
    "def putPayoff(spot, strike):\n",
    "    return np.maximum(strike - spot, 0.0)\n",
    "\n",
    "S = 40.0\n",
    "K = 40.0\n",
    "r = 0.08\n",
    "v = 0.30\n",
    "q = 0.0\n",
    "T = .5\n",
    "n = 3\n",
    "h = T / n\n",
    "u = np.exp((r - q) * h + v * np.sqrt(h))\n",
    "d = np.exp((r - q) * h - v * np.sqrt(h))\n",
    "pstar = (np.exp((r - q) * h) - d) / (u - d)\n",
    "nodes = n + 1\n",
    "\n",
    "def amerBinomPricerRecursive(S, K, r, v, q, T, n, payoff, verbose = True):\n",
    "    nodes = n  + 1\n",
    "    h = T / n\n",
    "    u = np.exp((r - q) * h + v * np.sqrt(h))\n",
    "    d = np.exp((r - q) * h - v * np.sqrt(h))\n",
    "    pu = (np.exp((r - q) * h) - d) / (u - d)\n",
    "    pd = 1.0 - pu\n",
    "    disc = np.exp(-r * h)\n",
    "    \n",
    "    \n",
    "    ## Arrays to store the spot prices and option values\n",
    "    Ct = np.empty(nodes)\n",
    "    St = np.empty(nodes)\n",
    "    \n",
    "    for i in range(nodes):\n",
    "        St[i] = S * (u ** (n - i)) * (d ** i)\n",
    "        Ct[i] = payoff(St[i], K)\n",
    "    \n",
    "    if verbose:\n",
    "        print(Ct)\n",
    "        \n",
    "    for t in range((n - 1), -1, -1):\n",
    "        for j in range(t+1):\n",
    "            Ct[j] = disc * (pu * Ct[j] + pd * Ct[j+1])\n",
    "            St[j] = St[j] / u\n",
    "            Ct[j] = np.maximum(Ct[j], K-St[j])\n",
    "            print(Ct)\n",
    "            \n",
    "    return Ct[0]"
   ]
  },
  {
   "cell_type": "code",
   "execution_count": 60,
   "metadata": {},
   "outputs": [
    {
     "name": "stdout",
     "output_type": "stream",
     "text": [
      "[ 0.          0.          3.16660277 11.16886174]\n",
      "[ 0.          0.          3.16660277 11.16886174]\n",
      "[ 0.          1.65788424  3.16660277 11.16886174]\n",
      "[ 0.          1.65788424  7.84406148 11.16886174]\n",
      "[ 0.86799019  1.65788424  7.84406148 11.16886174]\n",
      "[ 0.86799019  4.8747172   7.84406148 11.16886174]\n",
      "[ 2.95422756  4.8747172   7.84406148 11.16886174]\n"
     ]
    },
    {
     "data": {
      "text/plain": [
       "2.9542275627722927"
      ]
     },
     "execution_count": 60,
     "metadata": {},
     "output_type": "execute_result"
    }
   ],
   "source": [
    "amerBinomPricerRecursive(S,K,r,v,q,T,n,putPayoff,verbose = True)"
   ]
  },
  {
   "cell_type": "markdown",
   "metadata": {},
   "source": [
    "European Put"
   ]
  },
  {
   "cell_type": "code",
   "execution_count": 61,
   "metadata": {},
   "outputs": [],
   "source": [
    "import numpy as np\n",
    "\n",
    "def callPayoff(spot, strike):\n",
    "    return np.maximum(spot - strike, 0.0)\n",
    "\n",
    "def putPayoff(spot, strike):\n",
    "    return np.maximum(strike - spot, 0.0)\n",
    "\n",
    "S = 40.0\n",
    "K = 40.0\n",
    "r = 0.08\n",
    "v = 0.30\n",
    "q = 0.0\n",
    "T = .5\n",
    "n = 3\n",
    "h = T / n\n",
    "u = np.exp((r - q) * h + v * np.sqrt(h))\n",
    "d = np.exp((r - q) * h - v * np.sqrt(h))\n",
    "pstar = (np.exp((r - q) * h) - d) / (u - d)\n",
    "nodes = n + 1\n",
    "\n",
    "def euroBinomPricerRecursive(S, K, r, v, q, T, n, payoff, verbose = True):\n",
    "    nodes = n  + 1\n",
    "    h = T / n\n",
    "    u = np.exp((r - q) * h + v * np.sqrt(h))\n",
    "    d = np.exp((r - q) * h - v * np.sqrt(h))\n",
    "    pu = (np.exp((r - q) * h) - d) / (u - d)\n",
    "    pd = 1.0 - pu\n",
    "    disc = np.exp(-r * h)\n",
    "    \n",
    "    \n",
    "    ## Arrays to store the spot prices and option values\n",
    "    Ct = np.empty(nodes)\n",
    "    St = np.empty(nodes)\n",
    "    \n",
    "    for i in range(nodes):\n",
    "        St[i] = S * (u ** (n - i)) * (d ** i)\n",
    "        Ct[i] = payoff(St[i], K)\n",
    "    \n",
    "    if verbose:\n",
    "        print(Ct)\n",
    "        \n",
    "    for t in range((n - 1), -1, -1):\n",
    "        for j in range(t+1):\n",
    "            Ct[j] = disc * (pu * Ct[j] + pd * Ct[j+1])\n",
    "            print(Ct)\n",
    "            \n",
    "    return Ct[0]"
   ]
  },
  {
   "cell_type": "code",
   "execution_count": 62,
   "metadata": {},
   "outputs": [
    {
     "name": "stdout",
     "output_type": "stream",
     "text": [
      "[ 0.          0.          3.16660277 11.16886174]\n",
      "[ 0.          0.          3.16660277 11.16886174]\n",
      "[ 0.          1.65788424  3.16660277 11.16886174]\n",
      "[ 0.          1.65788424  7.31426795 11.16886174]\n",
      "[ 0.86799019  1.65788424  7.31426795 11.16886174]\n",
      "[ 0.86799019  4.59734223  7.31426795 11.16886174]\n",
      "[ 2.80900708  4.59734223  7.31426795 11.16886174]\n"
     ]
    },
    {
     "data": {
      "text/plain": [
       "2.8090070796101805"
      ]
     },
     "execution_count": 62,
     "metadata": {},
     "output_type": "execute_result"
    }
   ],
   "source": [
    "euroBinomPricerRecursive(S,K,r,v,q,T,n, putPayoff, verbose = True)"
   ]
  },
  {
   "cell_type": "markdown",
   "metadata": {},
   "source": [
    "American Call"
   ]
  },
  {
   "cell_type": "code",
   "execution_count": 63,
   "metadata": {},
   "outputs": [],
   "source": [
    "import numpy as np\n",
    "\n",
    "def callPayoff(spot, strike):\n",
    "    return np.maximum(spot - strike, 0.0)\n",
    "\n",
    "def putPayoff(spot, strike):\n",
    "    return np.maximum(strike - spot, 0.0)\n",
    "\n",
    "S = 40.0\n",
    "K = 40.0\n",
    "r = 0.08\n",
    "v = 0.30\n",
    "q = 0.0\n",
    "T = .5\n",
    "n = 3\n",
    "h = T / n\n",
    "u = np.exp((r - q) * h + v * np.sqrt(h))\n",
    "d = np.exp((r - q) * h - v * np.sqrt(h))\n",
    "pstar = (np.exp((r - q) * h) - d) / (u - d)\n",
    "nodes = n + 1\n",
    "\n",
    "def binomialPricer(S, K, r, v, q, T, n, payoff, verbose = True):\n",
    "    nodes = n  + 1\n",
    "    h = T / n\n",
    "    u = np.exp((r - q) * h + v * np.sqrt(h))\n",
    "    d = np.exp((r - q) * h - v * np.sqrt(h))\n",
    "    pstar = (np.exp((r - q) * h) - d) / (u - d)\n",
    "    \n",
    "    price = 0.0\n",
    "    \n",
    "    for i in range(nodes):\n",
    "        prob = binom.pmf(i, n, pstar)\n",
    "        spotT = S * (u ** i) * (d ** (n - i))\n",
    "        po = payoff(spotT, K) \n",
    "        price += po * prob\n",
    "        if verbose:\n",
    "            print(f\"({spotT:0.4f}, {po:0.4f}, {prob:0.4f})\")\n",
    "        \n",
    "    price *= np.exp(-r * T)\n",
    "    \n",
    "    return price\n",
    "    "
   ]
  },
  {
   "cell_type": "code",
   "execution_count": 64,
   "metadata": {},
   "outputs": [
    {
     "name": "stdout",
     "output_type": "stream",
     "text": [
      "(28.8311, 0.0000, 0.1494)\n",
      "(36.8334, 0.0000, 0.3964)\n",
      "(47.0567, 7.0567, 0.3507)\n",
      "(60.1176, 20.1176, 0.1034)\n"
     ]
    },
    {
     "data": {
      "text/plain": [
       "4.377429513517247"
      ]
     },
     "execution_count": 64,
     "metadata": {},
     "output_type": "execute_result"
    }
   ],
   "source": [
    "binomialPricer(S,K,r,v,q,T,n,callPayoff, verbose = True)"
   ]
  },
  {
   "cell_type": "markdown",
   "metadata": {},
   "source": [
    "European Call"
   ]
  },
  {
   "cell_type": "code",
   "execution_count": 65,
   "metadata": {},
   "outputs": [],
   "source": [
    "import numpy as np\n",
    "\n",
    "def callPayoff(spot, strike):\n",
    "    return np.maximum(spot - strike, 0.0)\n",
    "\n",
    "def putPayoff(spot, strike):\n",
    "    return np.maximum(strike - spot, 0.0)\n",
    "\n",
    "S = 40.0\n",
    "K = 40.0\n",
    "r = 0.08\n",
    "v = 0.30\n",
    "q = 0.0\n",
    "T = .5\n",
    "n = 3\n",
    "h = T / n\n",
    "u = np.exp((r - q) * h + v * np.sqrt(h))\n",
    "d = np.exp((r - q) * h - v * np.sqrt(h))\n",
    "pstar = (np.exp((r - q) * h) - d) / (u - d)\n",
    "nodes = n + 1\n",
    "\n",
    "def binomialPricer(S, K, r, v, q, T, n, payoff, verbose = True):\n",
    "    nodes = n  + 1\n",
    "    h = T / n\n",
    "    u = np.exp((r - q) * h + v * np.sqrt(h))\n",
    "    d = np.exp((r - q) * h - v * np.sqrt(h))\n",
    "    pstar = (np.exp((r - q) * h) - d) / (u - d)\n",
    "    \n",
    "    price = 0.0\n",
    "    \n",
    "    for i in range(nodes):\n",
    "        prob = binom.pmf(i, n, pstar)\n",
    "        spotT = S * (u ** i) * (d ** (n - i))\n",
    "        po = payoff(spotT, K) \n",
    "        price += po * prob\n",
    "        if verbose:\n",
    "            print(f\"({spotT:0.4f}, {po:0.4f}, {prob:0.4f})\")\n",
    "        \n",
    "    price *= np.exp(-r * T)\n",
    "    \n",
    "    return price"
   ]
  },
  {
   "cell_type": "code",
   "execution_count": 66,
   "metadata": {},
   "outputs": [
    {
     "name": "stdout",
     "output_type": "stream",
     "text": [
      "(28.8311, 0.0000, 0.1494)\n",
      "(36.8334, 0.0000, 0.3964)\n",
      "(47.0567, 7.0567, 0.3507)\n",
      "(60.1176, 20.1176, 0.1034)\n"
     ]
    },
    {
     "data": {
      "text/plain": [
       "4.377429513517247"
      ]
     },
     "execution_count": 66,
     "metadata": {},
     "output_type": "execute_result"
    }
   ],
   "source": [
    "binomialPricer(S,K,r,v,q,T,n,callPayoff,verbose = True)"
   ]
  },
  {
   "cell_type": "code",
   "execution_count": null,
   "metadata": {},
   "outputs": [],
   "source": []
  }
 ],
 "metadata": {
  "kernelspec": {
   "display_name": "Python 3",
   "language": "python",
   "name": "python3"
  },
  "language_info": {
   "codemirror_mode": {
    "name": "ipython",
    "version": 3
   },
   "file_extension": ".py",
   "mimetype": "text/x-python",
   "name": "python",
   "nbconvert_exporter": "python",
   "pygments_lexer": "ipython3",
   "version": "3.6.5"
  }
 },
 "nbformat": 4,
 "nbformat_minor": 2
}
