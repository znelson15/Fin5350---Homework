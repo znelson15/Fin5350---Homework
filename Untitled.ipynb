{
 "cells": [
  {
   "cell_type": "code",
   "execution_count": 172,
   "metadata": {},
   "outputs": [],
   "source": [
    "import math\n",
    "import numpy as np\n",
    "s = 100\n",
    "k = 100\n",
    "T = 1\n",
    "v = .2\n",
    "r = .06\n",
    "div = .03\n",
    "h = 99\n",
    "n = 10\n",
    "m = 100"
   ]
  },
  {
   "cell_type": "code",
   "execution_count": 173,
   "metadata": {},
   "outputs": [],
   "source": [
    "def barrierOption(s,k,T,v,r,div,h,n,m):\n",
    "    dt = T/n\n",
    "    nudt = (r-div-.5 * v * v) * dt\n",
    "    sigsdt = v * np.sqrt(dt)\n",
    "\n",
    "    sum_Ct = 0\n",
    "    sum_Ct2 = 0\n",
    "\n",
    "    for j in range(m):\n",
    "        St = s\n",
    "        barrierCrossed = False\n",
    "        z1 = np.random.normal(size = n)\n",
    "        z2 = -z1\n",
    "        z = np.concatenate((z1,z2))\n",
    "        for i in range(n):\n",
    "            St = St * np.exp(nudt + sigsdt * z[i])\n",
    "            if St <= h:\n",
    "                barrierCrossed = True\n",
    "                break\n",
    "        if barrierCrossed == True:\n",
    "            Ct = 0\n",
    "        else:\n",
    "            Ct = np.maximum(St - k, 0)\n",
    "        sum_Ct += Ct\n",
    "        sum_Ct2 += Ct*Ct\n",
    "    callValue = sum_Ct/m * np.exp(-r*T)\n",
    "    Sd = np.sqrt((sum_Ct2 - sum_Ct * sum_Ct/m) * np.exp(-2 * r * T) / (m-1))\n",
    "    Se = Sd/np.sqrt(m)\n",
    "    \n",
    "    print(callValue)"
   ]
  },
  {
   "cell_type": "code",
   "execution_count": 174,
   "metadata": {},
   "outputs": [
    {
     "name": "stdout",
     "output_type": "stream",
     "text": [
      "4.682175587963089\n"
     ]
    }
   ],
   "source": [
    "barrierOption(s,k,T,v,r,div,h,n,m)"
   ]
  },
  {
   "cell_type": "code",
   "execution_count": 175,
   "metadata": {},
   "outputs": [],
   "source": [
    "from math import log2\n",
    "def WienerBridge(expiry, num_reps, num_steps, endval):\n",
    "    num_bisect = int(log2(num_steps))\n",
    "    tjump = int(expiry)\n",
    "    ijump = int(num_steps - 1)\n",
    "\n",
    "    z = np.random.normal(size=(num_reps, num_steps+1))\n",
    "    w = np.zeros((num_reps, num_steps + 1))\n",
    "    w[:,num_steps] = endval\n",
    "    \n",
    "\n",
    "    for k in range(num_bisect):\n",
    "        left = 0\n",
    "        i = ijump // 2 + 1    ## make sure this is integer division!\n",
    "        right = ijump + 1\n",
    "        limit = 2 ** k\n",
    "\n",
    "        for j in range(limit):\n",
    "            a = 0.5 * (w[:,left] + w[:,right])\n",
    "            b = 0.5 * np.sqrt(tjump)\n",
    "            w[:,i] = a + b * z[:,i]\n",
    "            right += ijump + 1\n",
    "            left += ijump + 1\n",
    "            i += ijump + 1\n",
    "        \n",
    "        ijump //= 2    ## Again, make this is integer division!\n",
    "        tjump /= 2\n",
    "\n",
    "    return np.diff(w)"
   ]
  },
  {
   "cell_type": "code",
   "execution_count": 176,
   "metadata": {},
   "outputs": [],
   "source": [
    "def StratifiedSample(M = 100):\n",
    "    u = np.random.uniform(size=M)  \n",
    "    i = np.arange(M)\n",
    "    uhat = (u + i) / M\n",
    "\n",
    "    return uhat\n",
    "\n",
    "    \n",
    "from scipy.stats import norm\n",
    "\n",
    "def CallPayoff(spot, strike):\n",
    "    return np.maximum(spot - strike, 0.0)\n",
    "\n",
    "def StratifiedMonteCarloPricer(spot, strike, rate, vol, div, expiry, num_reps, num_steps):\n",
    "    uhat = StratifiedSample(num_reps)\n",
    "    endval = norm.ppf(uhat)\n",
    "    z = WienerBridge(expiry, reps, steps, endval)\n",
    "    barrier_crossed = False\n",
    "\n",
    "    \n",
    "    spotT = np.zeros((num_reps, num_steps))\n",
    "    spotT[:,0] = spot\n",
    "    \n",
    "    dt = expiry / num_steps\n",
    "    drift = (rate - div - 0.5 * vol * vol) * dt\n",
    "    \n",
    "    \n",
    "    for j in range(num_reps):\n",
    "        for i in range(1,num_steps):\n",
    "            spotT[j,i] = spotT[j,i-1] * np.exp(drift + vol * z[j,i])\n",
    "            if spotT[j,i] <= h:\n",
    "                barrier_crossed = True\n",
    "                break\n",
    "\n",
    "    callT = CallPayoff(spotT[:,-1], strike)\n",
    "    price = callT.mean() * np.exp(-rate * expiry)\n",
    "    se = callT.std(ddof=1) / np.sqrt(num_reps)\n",
    "    \n",
    "    return (price, se)\n",
    "    #return price\n",
    "## main\n",
    "spot = 100\n",
    "strike = 100\n",
    "rate = 0.06\n",
    "vol = 0.20\n",
    "expiry = 1.0\n",
    "div = 0.03\n",
    "reps = 100 \n",
    "steps = 8\n",
    "h = 99\n"
   ]
  },
  {
   "cell_type": "code",
   "execution_count": 177,
   "metadata": {},
   "outputs": [
    {
     "data": {
      "text/plain": [
       "(5.014500855735458, 1.1114127804881098)"
      ]
     },
     "execution_count": 177,
     "metadata": {},
     "output_type": "execute_result"
    }
   ],
   "source": [
    "StratifiedMonteCarloPricer(spot, strike, rate, vol, div, expiry, reps, steps)"
   ]
  },
  {
   "cell_type": "code",
   "execution_count": 214,
   "metadata": {},
   "outputs": [],
   "source": [
    "import numpy as np\n",
    "import math\n",
    "def Antithetic(s,k,T,v,r,div,h,n,m):\n",
    "    dt = T/n\n",
    "    nudt = (r-div-.5 * v * v) * dt\n",
    "    sigsdt = v * np.sqrt(dt)\n",
    "    lnS = math.log(s)\n",
    "    \n",
    "    sum_Ct = 0\n",
    "    sum_Ct2 = 0\n",
    "\n",
    "    for j in range(m):\n",
    "        lnSt1 = lnS\n",
    "        lnSt2 = lnS\n",
    "        z1 = np.random.normal(size = n)\n",
    "        z2 = -z1\n",
    "        z = np.concatenate((z1,z2))\n",
    "        barrierCrossed = False\n",
    "        for i in range(n):\n",
    "            lnSt1 = lnSt1 + nudt + sigsdt * z[i]\n",
    "            lnSt2 = lnSt2 + nudt + sigsdt * -z[i]\n",
    "            if lnSt2 <= h:\n",
    "                barrierCrossed = True\n",
    "                break\n",
    "        if barrierCrossed == True:\n",
    "            Ct = 0\n",
    "        else:\n",
    "            St1 = np.exp(lnSt1)\n",
    "            St2 = np.exp(lnSt2)\n",
    "            Ct = 0.5 * (np.maximum(0, St1 - k) + np.maximum(0, St2 - k))\n",
    "        sum_Ct += Ct\n",
    "        sum_Ct2 += Ct*Ct\n",
    "    callValue = sum_Ct/m * np.exp(-r*T)\n",
    "    Sd = np.sqrt((sum_Ct2 - sum_Ct * sum_Ct/m) * np.exp(-2 * r * T) / (m-1))\n",
    "    Se = Sd/np.sqrt(m)\n",
    "    \n",
    "    print(callValue)    "
   ]
  },
  {
   "cell_type": "code",
   "execution_count": 215,
   "metadata": {},
   "outputs": [
    {
     "name": "stdout",
     "output_type": "stream",
     "text": [
      "0.0\n"
     ]
    }
   ],
   "source": [
    "Antithetic(s,k,T,v,r,div,h,n,m)"
   ]
  },
  {
   "cell_type": "code",
   "execution_count": null,
   "metadata": {},
   "outputs": [],
   "source": []
  }
 ],
 "metadata": {
  "kernelspec": {
   "display_name": "Python 3",
   "language": "python",
   "name": "python3"
  },
  "language_info": {
   "codemirror_mode": {
    "name": "ipython",
    "version": 3
   },
   "file_extension": ".py",
   "mimetype": "text/x-python",
   "name": "python",
   "nbconvert_exporter": "python",
   "pygments_lexer": "ipython3",
   "version": "3.6.5"
  }
 },
 "nbformat": 4,
 "nbformat_minor": 2
}
