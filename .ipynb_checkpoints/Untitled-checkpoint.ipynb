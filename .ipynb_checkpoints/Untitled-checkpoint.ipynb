{
 "cells": [
  {
   "cell_type": "code",
   "execution_count": 12,
   "metadata": {},
   "outputs": [],
   "source": [
    "import math\n",
    "import numpy as np\n",
    "s = 100\n",
    "k = 100\n",
    "T = 1\n",
    "v = .2\n",
    "r = .06\n",
    "div = .03\n",
    "h = 99\n",
    "n = 10\n",
    "m = 100"
   ]
  },
  {
   "cell_type": "code",
   "execution_count": 43,
   "metadata": {},
   "outputs": [],
   "source": [
    "def barrierOption(s,k,T,v,r,div,h,n,m):\n",
    "    dt = T/n\n",
    "    nudt = (r-div-.5 * v * v) * dt\n",
    "    sigsdt = v * np.sqrt(dt)\n",
    "\n",
    "    sum_Ct = 0\n",
    "    sum_Ct2 = 0\n",
    "\n",
    "    for j in range(m):\n",
    "        St = s\n",
    "        barrierCrossed = False\n",
    "        z1 = np.random.normal(size = n)\n",
    "        z2 = -z1\n",
    "        z = np.concatenate((z1,z2))\n",
    "        for i in range(n):\n",
    "            St = St * np.exp(nudt + sigsdt * z[i])\n",
    "            if St <= h:\n",
    "                barrierCrossed = True\n",
    "                break\n",
    "        if barrierCrossed == True:\n",
    "            Ct = 0\n",
    "        else:\n",
    "            Ct = np.maximum(St - k, 0)\n",
    "        sum_Ct += Ct\n",
    "        sum_Ct2 += Ct*Ct\n",
    "    callValue = sum_Ct/n * np.exp(-r*T)\n",
    "    Sd = np.sqrt((sum_Ct2 - sum_Ct * sum_Ct/m) * np.exp(-2 * r * T) / (m-1))\n",
    "    Se = Sd/np.sqrt(m)\n",
    "    \n",
    "    print(callValue)"
   ]
  },
  {
   "cell_type": "code",
   "execution_count": 44,
   "metadata": {},
   "outputs": [
    {
     "name": "stdout",
     "output_type": "stream",
     "text": [
      "36.752022631249446\n"
     ]
    }
   ],
   "source": [
    "barrierOption(s,k,T,v,r,div,h,n,m)"
   ]
  },
  {
   "cell_type": "code",
   "execution_count": null,
   "metadata": {},
   "outputs": [],
   "source": []
  }
 ],
 "metadata": {
  "kernelspec": {
   "display_name": "Python 3",
   "language": "python",
   "name": "python3"
  },
  "language_info": {
   "codemirror_mode": {
    "name": "ipython",
    "version": 3
   },
   "file_extension": ".py",
   "mimetype": "text/x-python",
   "name": "python",
   "nbconvert_exporter": "python",
   "pygments_lexer": "ipython3",
   "version": "3.6.5"
  }
 },
 "nbformat": 4,
 "nbformat_minor": 2
}
