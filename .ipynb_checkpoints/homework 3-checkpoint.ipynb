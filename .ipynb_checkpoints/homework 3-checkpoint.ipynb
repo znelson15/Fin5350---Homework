{
 "cells": [
  {
   "cell_type": "markdown",
   "metadata": {},
   "source": [
    "Question 1A"
   ]
  },
  {
   "cell_type": "code",
   "execution_count": 25,
   "metadata": {},
   "outputs": [],
   "source": [
    "import numpy as np\n",
    "from scipy.stats import norm"
   ]
  },
  {
   "cell_type": "code",
   "execution_count": 26,
   "metadata": {},
   "outputs": [],
   "source": [
    "def bsmCallDelta(spot, strike, vol, rate, tau, div):\n",
    "    d1 = (np.log(spot / strike) + (rate - div + 0.5 * vol * vol) * tau) / (vol * np.sqrt(tau))\n",
    "    delta = np.exp(-div * tau) * norm.cdf(d1)\n",
    "    \n",
    "    return delta"
   ]
  },
  {
   "cell_type": "code",
   "execution_count": 27,
   "metadata": {},
   "outputs": [],
   "source": [
    "def bsmPutDelta(spot, strike, vol, rate, tau, div):\n",
    "    d1 = (np.log(spot / strike) + (rate - div + 0.5 * vol * vol) * tau) / (vol * np.sqrt(tau))\n",
    "    delta = np.exp(-div * tau) * norm.cdf(-d1)\n",
    "\n",
    "    return delta"
   ]
  },
  {
   "cell_type": "code",
   "execution_count": 28,
   "metadata": {},
   "outputs": [],
   "source": [
    "def bsmGamma(spot, strike, vol, rate, tau, div):\n",
    "    d1 = (np.log(spot / strike) + (rate - div + 0.5 * vol * vol) * tau) / (vol * np.sqrt(tau))\n",
    "    gamma = (np.exp(-div * tau)* norm.pdf(d1)) / (spot * vol * np.sqrt(tau))\n",
    "    \n",
    "    return gamma"
   ]
  },
  {
   "cell_type": "code",
   "execution_count": 29,
   "metadata": {},
   "outputs": [],
   "source": [
    "def bsmCallTheta(spot, strike, vol, rate, tau, div):\n",
    "    d1 = (np.log(spot / strike) + (rate - div + 0.5 * vol * vol) * tau) / (vol * np.sqrt(tau))\n",
    "    d2 = d1 - vol * np.sqrt(tau)\n",
    "    theta = div * spot * np.exp(-div * tau) * norm.cdf(d1) - rate * strike * np.exp(-rate *tau) * norm.cdf(d2)- ((strike * np.exp(-rate * tau) * norm.pdf(d2) * vol) / (2 * tau))\n",
    "    return theta"
   ]
  },
  {
   "cell_type": "code",
   "execution_count": 30,
   "metadata": {},
   "outputs": [],
   "source": [
    "def bsmPutTheta(spot, strike, vol, rate, tau, div):\n",
    "    d1 = (np.log(spot / strike) + (rate - div + 0.5 * vol * vol) * tau) / (vol * np.sqrt(tau))\n",
    "    d2 = d1 - vol * np.sqrt(tau)\n",
    "    theta = (div * spot * np.exp(-div * tau) * norm.cdf(d1) - rate * strike * np.exp(-rate *tau) * norm.cdf(d2)) - + rate * strike * np.exp(-rate * tau) - div * spot * np.exp(-div * tau)\n",
    "    return theta"
   ]
  },
  {
   "cell_type": "code",
   "execution_count": 31,
   "metadata": {},
   "outputs": [],
   "source": [
    "def bsmVega(spot, strike, vol, rate, tau, div):\n",
    "    d1 = (np.log(spot / strike) + (rate - div + 0.5 * vol * vol) * tau) / (vol * np.sqrt(tau))\n",
    "    vega = spot * np.exp(-div * tau) * norm.pdf(d1) * np.sqrt(tau)\n",
    "    \n",
    "    return vega"
   ]
  },
  {
   "cell_type": "code",
   "execution_count": 32,
   "metadata": {},
   "outputs": [],
   "source": [
    "def bsmCallRho(spot, strike, vol, rate, tau, div):\n",
    "    d1 = (np.log(spot / strike) + (rate - div + 0.5 * vol * vol) * tau) / (vol * np.sqrt(tau))\n",
    "    d2 = d1 - vol * np.sqrt(tau)\n",
    "    rho = tau * strike * np.exp(-rate * tau) * norm.cdf(d2)\n",
    "    \n",
    "    return rho"
   ]
  },
  {
   "cell_type": "code",
   "execution_count": 33,
   "metadata": {},
   "outputs": [],
   "source": [
    "def bsmPutRho(spot, strike, vol, rate, tau, div):\n",
    "    d1 = (np.log(spot / strike) + (rate - div + 0.5 * vol * vol) * tau) / (vol * np.sqrt(tau))\n",
    "    d2 = d1 - vol * np.sqrt(tau)\n",
    "    rho = -tau * strike * np.exp(-rate * tau) * norm.cdf(-d2)\n",
    "    \n",
    "    return rho"
   ]
  },
  {
   "cell_type": "markdown",
   "metadata": {},
   "source": [
    "Question 1B"
   ]
  },
  {
   "cell_type": "code",
   "execution_count": 34,
   "metadata": {},
   "outputs": [
    {
     "name": "stdout",
     "output_type": "stream",
     "text": [
      "The Call Delta's are:  [0.00000000e+00 7.55459513e-33 5.39162063e-22 1.03845077e-16\n",
      " 1.95534056e-13 3.63920406e-11 1.74126478e-09 3.46009440e-08\n",
      " 3.74656278e-07 2.61285369e-06 1.30937281e-05 5.08261128e-05\n",
      " 1.61216695e-04 4.34593443e-04 1.02551991e-03 2.16703857e-03\n",
      " 4.17430987e-03 7.43450869e-03 1.23832429e-02 1.94708890e-02\n",
      " 2.91241918e-02 4.17089363e-02 5.74986910e-02 7.66530110e-02\n",
      " 9.92066273e-02 1.25069444e-01 1.54035885e-01 1.85801349e-01\n",
      " 2.19983242e-01 2.56144151e-01 2.93815028e-01 3.32516769e-01\n",
      " 3.71779044e-01 4.11155745e-01 4.50236799e-01 4.88656418e-01\n",
      " 5.26098093e-01 5.62296739e-01 5.97038513e-01 6.30158805e-01\n",
      " 6.61538880e-01 6.91101634e-01 7.18806802e-01 7.44645959e-01\n",
      " 7.68637534e-01 7.90822022e-01 8.11257519e-01 8.30015665e-01\n",
      " 8.47178034e-01 8.62832986e-01 8.77072980e-01 8.89992317e-01\n",
      " 9.01685296e-01 9.12244728e-01 9.21760774e-01 9.30320077e-01\n",
      " 9.38005124e-01 9.44893821e-01 9.51059234e-01 9.56569474e-01\n",
      " 9.61487686e-01 9.65872129e-01 9.69776327e-01 9.73249254e-01\n",
      " 9.76335571e-01 9.79075874e-01 9.81506957e-01 9.83662081e-01\n",
      " 9.85571242e-01 9.87261430e-01 9.88756883e-01 9.90079330e-01\n",
      " 9.91248214e-01 9.92280908e-01 9.93192911e-01 9.93998037e-01\n",
      " 9.94708576e-01 9.95335459e-01 9.95888390e-01 9.96375983e-01\n",
      " 9.96805871e-01]\n",
      "The Call Gamma is:  [           nan 3.01242587e-31 8.69079239e-21 9.61822901e-16\n",
      " 1.20442325e-12 1.61624295e-10 5.86981217e-09 9.17364286e-08\n",
      " 8.01817685e-07 4.60414080e-06 1.92946793e-05 6.34191335e-05\n",
      " 1.72079859e-04 4.00182772e-04 8.20442038e-04 1.51529119e-03\n",
      " 2.56418219e-03 4.02939118e-03 5.94379429e-03 8.30325646e-03\n",
      " 1.10648424e-02 1.41506083e-02 1.74556733e-02 2.08587516e-02\n",
      " 2.42333038e-02 2.74577872e-02 3.04239716e-02 3.30427981e-02\n",
      " 3.52476956e-02 3.69955858e-02 3.82660031e-02 3.90588324e-02\n",
      " 3.93911695e-02 3.92937502e-02 3.88073102e-02 3.79791426e-02\n",
      " 3.68600306e-02 3.55016553e-02 3.39545153e-02 3.22663505e-02\n",
      " 3.04810305e-02 2.86378500e-02 2.67711648e-02 2.49103011e-02\n",
      " 2.30796730e-02 2.12990528e-02 1.95839411e-02 1.79459994e-02\n",
      " 1.63935103e-02 1.49318413e-02 1.35638934e-02 1.22905222e-02\n",
      " 1.11109239e-02 1.00229803e-02 9.02356340e-03 8.10879791e-03\n",
      " 7.27428479e-03 6.51528833e-03 5.82688992e-03 5.20411240e-03\n",
      " 4.64201835e-03 4.13578618e-03 3.68076710e-03 3.27252615e-03\n",
      " 2.90687005e-03 2.57986420e-03 2.28784113e-03 2.02740205e-03\n",
      " 1.79541314e-03 1.58899796e-03 1.40552685e-03 1.24260440e-03\n",
      " 1.09805567e-03 9.69911623e-04 8.56394347e-04 7.55902354e-04\n",
      " 6.66996209e-04 5.88384702e-04 5.18911684e-04 4.57543648e-04\n",
      " 4.03358123e-04]\n",
      "The Call Theta is:  [ 0.00000000e+00 -1.41455942e-32 -1.64803827e-21 -4.13606333e-16\n",
      " -9.27353839e-13 -1.95768844e-10 -1.03064130e-08 -2.20690571e-07\n",
      " -2.53617959e-06 -1.85555622e-05 -9.66609414e-05 -3.87137576e-04\n",
      " -1.25917550e-03 -3.46237725e-03 -8.29627904e-03 -1.77310885e-02\n",
      " -3.44241460e-02 -6.16002263e-02 -1.02799506e-01 -1.61530837e-01\n",
      " -2.40889170e-01 -3.43200393e-01 -4.69746561e-01 -6.20605056e-01\n",
      " -7.94613018e-01 -9.89448678e-01 -1.20180695e+00 -1.42763898e+00\n",
      " -1.66242356e+00 -1.90144133e+00 -2.14002825e+00 -2.37379186e+00\n",
      " -2.59878089e+00 -2.81160480e+00 -3.00950482e+00 -3.19038140e+00\n",
      " -3.35278504e+00 -3.49587851e+00 -3.61937845e+00 -3.72348364e+00\n",
      " -3.80879661e+00 -3.87624361e+00 -3.92699722e+00 -3.96240448e+00\n",
      " -3.98392247e+00 -3.99306245e+00 -3.99134290e+00 -3.98025148e+00\n",
      " -3.96121522e+00 -3.93557833e+00 -3.90458680e+00 -3.86937860e+00\n",
      " -3.83097885e+00 -3.79029882e+00 -3.74813800e+00 -3.70518859e+00\n",
      " -3.66204159e+00 -3.61919410e+00 -3.57705728e+00 -3.53596464e+00\n",
      " -3.49618037e+00 -3.45790745e+00 -3.42129544e+00 -3.38644779e+00\n",
      " -3.35342860e+00 -3.32226878e+00 -3.29297165e+00 -3.26551790e+00\n",
      " -3.23987004e+00 -3.21597620e+00 -3.19377350e+00 -3.17319094e+00\n",
      " -3.15415182e+00 -3.13657582e+00 -3.12038068e+00 -3.10548365e+00\n",
      " -3.09180259e+00 -3.07925691e+00 -3.06776828e+00 -3.05726116e+00\n",
      " -3.04766318e+00]\n",
      "The Call Vega is:  [0.00000000e+00 9.03727760e-32 1.04289509e-20 2.59692183e-15\n",
      " 5.78123159e-12 1.21218221e-09 6.33939714e-08 1.34852550e-06\n",
      " 1.53948995e-05 1.11880621e-04 5.78840378e-04 2.30211455e-03\n",
      " 7.43384991e-03 2.02892665e-02 4.82419919e-02 1.02282155e-01\n",
      " 1.96929192e-01 3.49348215e-01 5.77736805e-01 8.99242674e-01\n",
      " 1.32778108e+00 1.87212547e+00 2.53456376e+00 3.31028387e+00\n",
      " 4.18751489e+00 5.14833509e+00 6.16998143e+00 7.22645995e+00\n",
      " 8.29025800e+00 9.33398629e+00 1.03318208e+01 1.12606614e+01\n",
      " 1.21009673e+01 1.28372682e+01 1.34583752e+01 1.39573349e+01\n",
      " 1.43311799e+01 1.45805298e+01 1.47090960e+01 1.47231357e+01\n",
      " 1.46308947e+01 1.44420678e+01 1.41673004e+01 1.38177440e+01\n",
      " 1.34046741e+01 1.29391746e+01 1.24318858e+01 1.18928138e+01\n",
      " 1.13311943e+01 1.07554053e+01 1.01729200e+01 9.59029450e+00\n",
      " 9.01318145e+00 8.44636549e+00 7.89381326e+00 7.35873410e+00\n",
      " 6.84364713e+00 6.35045153e+00 5.88049731e+00 5.43465458e+00\n",
      " 5.01337982e+00 4.61677811e+00 4.24466062e+00 3.89659689e+00\n",
      " 3.57196192e+00 3.26997788e+00 2.98975079e+00 2.73030233e+00\n",
      " 2.49059711e+00 2.26956579e+00 2.06612447e+00 1.87919064e+00\n",
      " 1.70769618e+00 1.55059771e+00 1.40688463e+00 1.27558522e+00\n",
      " 1.15577103e+00 1.04655987e+00 9.47117605e-01 8.56658972e-01\n",
      " 7.74447597e-01]\n",
      "The Call Rho is:  [0.00000000e+00 7.37097249e-33 1.04619556e-21 3.00850726e-16\n",
      " 7.52113760e-13 1.74268896e-10 9.96646619e-09 2.30146819e-07\n",
      " 2.83680825e-06 2.21683627e-05 1.22936058e-04 5.22754930e-04\n",
      " 1.80122516e-03 5.23734084e-03 1.32497533e-02 2.98595655e-02\n",
      " 6.10595899e-02 1.14974924e-01 2.01737311e-01 3.33055447e-01\n",
      " 5.21525092e-01 7.79769650e-01 1.11952497e+00 1.55078094e+00\n",
      " 2.08107230e+00 2.71498018e+00 3.45387173e+00 4.29587483e+00\n",
      " 5.23606070e+00 6.26679229e+00 7.37818905e+00 8.55865819e+00\n",
      " 9.79544750e+00 1.10751821e+01 1.23843568e+01 1.37097646e+01\n",
      " 1.50388507e+01 1.63599880e+01 1.76626756e+01 1.89376660e+01\n",
      " 2.01770302e+01 2.13741681e+01 2.25237769e+01 2.36217860e+01\n",
      " 2.46652670e+01 2.56523283e+01 2.65820004e+01 2.74541177e+01\n",
      " 2.82692009e+01 2.90283442e+01 2.97331099e+01 3.03854303e+01\n",
      " 3.09875205e+01 3.15417999e+01 3.20508252e+01 3.25172310e+01\n",
      " 3.29436815e+01 3.33328297e+01 3.36872836e+01 3.40095807e+01\n",
      " 3.43021674e+01 3.45673841e+01 3.48074543e+01 3.50244783e+01\n",
      " 3.52204289e+01 3.53971513e+01 3.55563629e+01 3.56996569e+01\n",
      " 3.58285059e+01 3.59442666e+01 3.60481853e+01 3.61414043e+01\n",
      " 3.62249674e+01 3.62998270e+01 3.63668498e+01 3.64268233e+01\n",
      " 3.64804616e+01 3.65284116e+01 3.65712580e+01 3.66095289e+01\n",
      " 3.66437005e+01]\n"
     ]
    },
    {
     "name": "stderr",
     "output_type": "stream",
     "text": [
      "/Users/zacharynelson/anaconda3/lib/python3.6/site-packages/ipykernel_launcher.py:2: RuntimeWarning: divide by zero encountered in log\n",
      "  \n",
      "/Users/zacharynelson/anaconda3/lib/python3.6/site-packages/ipykernel_launcher.py:3: RuntimeWarning: invalid value encountered in true_divide\n",
      "  This is separate from the ipykernel package so we can avoid doing imports until\n"
     ]
    }
   ],
   "source": [
    "spot = np.arange(start = 0.0, stop = 81.0, step = 1.0)\n",
    "strike = 40.0\n",
    "vol = .3\n",
    "rate = .08\n",
    "tau = 1.0\n",
    "div = 0\n",
    "\n",
    "callDelta = bsmCallDelta(spot, strike, vol, rate, tau, div)\n",
    "print(\"The Call Delta's are: \", callDelta)\n",
    "\n",
    "callGamma = bsmGamma(spot, strike, vol, rate, tau, div)\n",
    "print(\"The Call Gamma is: \", callGamma)\n",
    "\n",
    "callTheta = bsmCallTheta(spot, strike, vol, rate, tau, div)\n",
    "print(\"The Call Theta is: \", callTheta)\n",
    "\n",
    "callVega = bsmVega(spot, strike, vol, rate, tau, div)\n",
    "print(\"The Call Vega is: \", callVega)\n",
    "\n",
    "callRho = bsmCallRho(spot, strike, vol, rate, tau, div)\n",
    "print(\"The Call Rho is: \", callRho)"
   ]
  },
  {
   "cell_type": "code",
   "execution_count": 35,
   "metadata": {},
   "outputs": [
    {
     "name": "stdout",
     "output_type": "stream",
     "text": [
      "The Put Delta's are:  [1.         1.         1.         1.         1.         1.\n",
      " 1.         0.99999997 0.99999963 0.99999739 0.99998691 0.99994917\n",
      " 0.99983878 0.99956541 0.99897448 0.99783296 0.99582569 0.99256549\n",
      " 0.98761676 0.98052911 0.97087581 0.95829106 0.94250131 0.92334699\n",
      " 0.90079337 0.87493056 0.84596411 0.81419865 0.78001676 0.74385585\n",
      " 0.70618497 0.66748323 0.62822096 0.58884425 0.5497632  0.51134358\n",
      " 0.47390191 0.43770326 0.40296149 0.3698412  0.33846112 0.30889837\n",
      " 0.2811932  0.25535404 0.23136247 0.20917798 0.18874248 0.16998434\n",
      " 0.15282197 0.13716701 0.12292702 0.11000768 0.0983147  0.08775527\n",
      " 0.07823923 0.06967992 0.06199488 0.05510618 0.04894077 0.04343053\n",
      " 0.03851231 0.03412787 0.03022367 0.02675075 0.02366443 0.02092413\n",
      " 0.01849304 0.01633792 0.01442876 0.01273857 0.01124312 0.00992067\n",
      " 0.00875179 0.00771909 0.00680709 0.00600196 0.00529142 0.00466454\n",
      " 0.00411161 0.00362402 0.00319413]\n",
      "The Put Gamma is:  [           nan 3.01242587e-31 8.69079239e-21 9.61822901e-16\n",
      " 1.20442325e-12 1.61624295e-10 5.86981217e-09 9.17364286e-08\n",
      " 8.01817685e-07 4.60414080e-06 1.92946793e-05 6.34191335e-05\n",
      " 1.72079859e-04 4.00182772e-04 8.20442038e-04 1.51529119e-03\n",
      " 2.56418219e-03 4.02939118e-03 5.94379429e-03 8.30325646e-03\n",
      " 1.10648424e-02 1.41506083e-02 1.74556733e-02 2.08587516e-02\n",
      " 2.42333038e-02 2.74577872e-02 3.04239716e-02 3.30427981e-02\n",
      " 3.52476956e-02 3.69955858e-02 3.82660031e-02 3.90588324e-02\n",
      " 3.93911695e-02 3.92937502e-02 3.88073102e-02 3.79791426e-02\n",
      " 3.68600306e-02 3.55016553e-02 3.39545153e-02 3.22663505e-02\n",
      " 3.04810305e-02 2.86378500e-02 2.67711648e-02 2.49103011e-02\n",
      " 2.30796730e-02 2.12990528e-02 1.95839411e-02 1.79459994e-02\n",
      " 1.63935103e-02 1.49318413e-02 1.35638934e-02 1.22905222e-02\n",
      " 1.11109239e-02 1.00229803e-02 9.02356340e-03 8.10879791e-03\n",
      " 7.27428479e-03 6.51528833e-03 5.82688992e-03 5.20411240e-03\n",
      " 4.64201835e-03 4.13578618e-03 3.68076710e-03 3.27252615e-03\n",
      " 2.90687005e-03 2.57986420e-03 2.28784113e-03 2.02740205e-03\n",
      " 1.79541314e-03 1.58899796e-03 1.40552685e-03 1.24260440e-03\n",
      " 1.09805567e-03 9.69911623e-04 8.56394347e-04 7.55902354e-04\n",
      " 6.66996209e-04 5.88384702e-04 5.18911684e-04 4.57543648e-04\n",
      " 4.03358123e-04]\n",
      "The Put Theta is:  [-2.95397231 -2.95397231 -2.95397231 -2.95397231 -2.95397231 -2.95397231\n",
      " -2.95397231 -2.95397233 -2.95397254 -2.95397408 -2.95398214 -2.95401413\n",
      " -2.95411641 -2.9543913  -2.95503229 -2.95636107 -2.95885708 -2.9631703\n",
      " -2.97011129 -2.98061674 -2.99569432 -3.01635388 -3.04353431 -3.07803478\n",
      " -3.12045809 -3.17117072 -3.23028205 -3.29764229 -3.37285716 -3.45531569\n",
      " -3.54422743 -3.63866496 -3.73760811 -3.83998688 -3.94472085 -4.05075348\n",
      " -4.15708037 -4.26277135 -4.36698635 -4.46898559 -4.56813472 -4.66390575\n",
      " -4.75587446 -4.84371519 -4.92719366 -5.00615857 -5.08053234 -5.15030172\n",
      " -5.21550838 -5.27623985 -5.3326211  -5.38480673 -5.43297395 -5.4773163\n",
      " -5.51803832 -5.55535079 -5.58946683 -5.62059868 -5.64895499 -5.67473876\n",
      " -5.6981457  -5.71936304 -5.73856866 -5.75593057 -5.77160662 -5.78574441\n",
      " -5.79848134 -5.80994486 -5.82025278 -5.82951364 -5.83782713 -5.84528465\n",
      " -5.8519697  -5.85795847 -5.8633203  -5.86811817 -5.87240924 -5.87624524\n",
      " -5.87967295 -5.88273462 -5.88546835]\n",
      "The Put Vega is:  [0.00000000e+00 9.03727760e-32 1.04289509e-20 2.59692183e-15\n",
      " 5.78123159e-12 1.21218221e-09 6.33939714e-08 1.34852550e-06\n",
      " 1.53948995e-05 1.11880621e-04 5.78840378e-04 2.30211455e-03\n",
      " 7.43384991e-03 2.02892665e-02 4.82419919e-02 1.02282155e-01\n",
      " 1.96929192e-01 3.49348215e-01 5.77736805e-01 8.99242674e-01\n",
      " 1.32778108e+00 1.87212547e+00 2.53456376e+00 3.31028387e+00\n",
      " 4.18751489e+00 5.14833509e+00 6.16998143e+00 7.22645995e+00\n",
      " 8.29025800e+00 9.33398629e+00 1.03318208e+01 1.12606614e+01\n",
      " 1.21009673e+01 1.28372682e+01 1.34583752e+01 1.39573349e+01\n",
      " 1.43311799e+01 1.45805298e+01 1.47090960e+01 1.47231357e+01\n",
      " 1.46308947e+01 1.44420678e+01 1.41673004e+01 1.38177440e+01\n",
      " 1.34046741e+01 1.29391746e+01 1.24318858e+01 1.18928138e+01\n",
      " 1.13311943e+01 1.07554053e+01 1.01729200e+01 9.59029450e+00\n",
      " 9.01318145e+00 8.44636549e+00 7.89381326e+00 7.35873410e+00\n",
      " 6.84364713e+00 6.35045153e+00 5.88049731e+00 5.43465458e+00\n",
      " 5.01337982e+00 4.61677811e+00 4.24466062e+00 3.89659689e+00\n",
      " 3.57196192e+00 3.26997788e+00 2.98975079e+00 2.73030233e+00\n",
      " 2.49059711e+00 2.26956579e+00 2.06612447e+00 1.87919064e+00\n",
      " 1.70769618e+00 1.55059771e+00 1.40688463e+00 1.27558522e+00\n",
      " 1.15577103e+00 1.04655987e+00 9.47117605e-01 8.56658972e-01\n",
      " 7.74447597e-01]\n",
      "The Put Rho is:  [-36.92465386 -36.92465386 -36.92465386 -36.92465386 -36.92465386\n",
      " -36.92465386 -36.92465385 -36.92465363 -36.92465102 -36.92463169\n",
      " -36.92453092 -36.9241311  -36.92285263 -36.91941651 -36.9114041\n",
      " -36.89479429 -36.86359427 -36.80967893 -36.72291654 -36.59159841\n",
      " -36.40312876 -36.14488421 -35.80512889 -35.37387292 -34.84358156\n",
      " -34.20967368 -33.47078212 -32.62877902 -31.68859316 -30.65786156\n",
      " -29.54646481 -28.36599567 -27.12920636 -25.84947175 -24.54029706\n",
      " -23.21488927 -21.88580315 -20.56466585 -19.2619783  -17.98698782\n",
      " -16.74762366 -15.55048578 -14.40087692 -13.30286784 -12.2593869\n",
      " -11.2723256  -10.34265344  -9.47053615  -8.655453    -7.89630963\n",
      "  -7.19154395  -6.53922352  -5.93713339  -5.38285391  -4.8738287\n",
      "  -4.4074229   -3.98097232  -3.5918242   -3.2373703   -2.91507316\n",
      "  -2.62248641  -2.35726974  -2.11719952  -1.9001756   -1.70422491\n",
      "  -1.5275026   -1.36829099  -1.22499693  -1.09614793  -0.98038727\n",
      "  -0.87646852  -0.78324958  -0.69968642  -0.62482682  -0.55780402\n",
      "  -0.49783056  -0.44419222  -0.39624224  -0.35339584  -0.31512496\n",
      "  -0.28095337]\n"
     ]
    },
    {
     "name": "stderr",
     "output_type": "stream",
     "text": [
      "/Users/zacharynelson/anaconda3/lib/python3.6/site-packages/ipykernel_launcher.py:2: RuntimeWarning: divide by zero encountered in log\n",
      "  \n",
      "/Users/zacharynelson/anaconda3/lib/python3.6/site-packages/ipykernel_launcher.py:3: RuntimeWarning: invalid value encountered in true_divide\n",
      "  This is separate from the ipykernel package so we can avoid doing imports until\n"
     ]
    }
   ],
   "source": [
    "spot = np.arange(start = 0.0, stop = 81.0, step = 1.0)\n",
    "strike = 40.0\n",
    "vol = .3\n",
    "rate = .08\n",
    "tau = 1.0\n",
    "div = 0\n",
    "\n",
    "putDelta = bsmPutDelta(spot, strike, vol, rate, tau, div)\n",
    "print(\"The Put Delta's are: \", putDelta)\n",
    "\n",
    "putGamma = bsmGamma(spot, strike, vol, rate, tau, div)\n",
    "print(\"The Put Gamma is: \", putGamma)\n",
    "\n",
    "putTheta = bsmPutTheta(spot, strike, vol, rate, tau, div)\n",
    "print(\"The Put Theta is: \", putTheta)\n",
    "\n",
    "putVega = bsmVega(spot, strike, vol, rate, tau, div)\n",
    "print(\"The Put Vega is: \", putVega)\n",
    "\n",
    "putRho = bsmPutRho(spot, strike, vol, rate, tau, div)\n",
    "print(\"The Put Rho is: \", putRho)"
   ]
  },
  {
   "cell_type": "markdown",
   "metadata": {},
   "source": [
    "Question 2"
   ]
  },
  {
   "cell_type": "code",
   "execution_count": 36,
   "metadata": {},
   "outputs": [
    {
     "data": {
      "text/plain": [
       "array([38.65802043, 44.02924175, 72.17163165, 27.29564372, 46.94504535])"
      ]
     },
     "execution_count": 36,
     "metadata": {},
     "output_type": "execute_result"
    }
   ],
   "source": [
    "import numpy as np\n",
    "\n",
    "S = 41.0\n",
    "K = 40.0\n",
    "v = .3\n",
    "r = .08\n",
    "T = 1.0\n",
    "q = 0\n",
    "\n",
    "M = 1000000\n",
    "spot_t = np.empty((M,))\n",
    "\n",
    "nudt = (r - q - 0.5 * v * v) * T\n",
    "sigdt = v * np.sqrt(T)\n",
    "z = np.random.normal(size = M)\n",
    "\n",
    "for i in range(M):\n",
    "    spot_t[i] = S * np.exp(nudt + sigdt * z[i])\n",
    "    \n",
    "spot_t = S * np.exp(nudt + sigdt * z)\n",
    "\n",
    "spot_t[:5]"
   ]
  },
  {
   "cell_type": "code",
   "execution_count": 37,
   "metadata": {},
   "outputs": [
    {
     "data": {
      "text/plain": [
       "array([ 5.42492425,  9.17727072, 35.31504962,  0.77714693, 11.51103247])"
      ]
     },
     "execution_count": 37,
     "metadata": {},
     "output_type": "execute_result"
    }
   ],
   "source": [
    "def bsmCallPrice(S, K, r, v, q, T):\n",
    "    d1 = (np.log(S/K) + (r - q + 0.5 * v * v) * T) / (v * np.sqrt(T))\n",
    "    d2 = (np.log(S/K) + (r - q - 0.5 * v * v) * T) / (v * np.sqrt(T))\n",
    "    callPrc = S * np.exp(-q * T) * norm.cdf(d1) - K * np.exp(-r * T) * norm.cdf(d2)\n",
    "    \n",
    "    return callPrc\n",
    "callPrice = bsmCallPrice(spot_t, K, r,v,q,T) \n",
    "callPrice[:5]"
   ]
  },
  {
   "cell_type": "code",
   "execution_count": 38,
   "metadata": {},
   "outputs": [
    {
     "data": {
      "text/plain": [
       "array([0.61902308, 0.76931165, 0.99143469, 0.19567424, 0.82902704])"
      ]
     },
     "execution_count": 38,
     "metadata": {},
     "output_type": "execute_result"
    }
   ],
   "source": [
    "def bsmCallDelta(S,K,v,r,T,q):\n",
    "    d1 = (np.log(S / K) + (r - q + 0.5 * v * v) * T) / (v * np.sqrt(T))\n",
    "    delta = np.exp(-q * T) * norm.cdf(d1)\n",
    "    \n",
    "    return delta\n",
    "\n",
    "callDelta = bsmCallDelta(spot_t,K,v,r,T,q)\n",
    "callDelta[:5]"
   ]
  },
  {
   "cell_type": "code",
   "execution_count": 39,
   "metadata": {},
   "outputs": [
    {
     "data": {
      "text/plain": [
       "array([2387.59575808, 3378.04359691, 7120.03084339,  533.32828741,\n",
       "       3880.36014807])"
      ]
     },
     "execution_count": 39,
     "metadata": {},
     "output_type": "execute_result"
    }
   ],
   "source": [
    "def investment(S,delta, price):\n",
    "    investment = S * delta *100 - price\n",
    "    \n",
    "    return investment\n",
    "\n",
    "portfolioInvestment = investment(spot_t, callDelta, callPrice)\n",
    "portfolioInvestment[:5]"
   ]
  },
  {
   "cell_type": "code",
   "execution_count": 40,
   "metadata": {},
   "outputs": [
    {
     "data": {
      "text/plain": [
       "array([-0.52336601, -0.74047426, -1.56072574, -0.11690668, -0.85058311])"
      ]
     },
     "execution_count": 40,
     "metadata": {},
     "output_type": "execute_result"
    }
   ],
   "source": [
    "def interest(r,investment):\n",
    "    interest = -(np.exp(r/365)-1) * investment\n",
    "    \n",
    "    return interest\n",
    "\n",
    "dailyInterest = interest(r,portfolioInvestment)\n",
    "\n",
    "dailyInterest[:5]"
   ]
  },
  {
   "cell_type": "code",
   "execution_count": 41,
   "metadata": {},
   "outputs": [
    {
     "data": {
      "text/plain": [
       "array([ -65.46527764,  -50.43642038,  -28.22411695, -107.8001615 ,\n",
       "        -44.4648819 ])"
      ]
     },
     "execution_count": 41,
     "metadata": {},
     "output_type": "execute_result"
    }
   ],
   "source": [
    "def capitalGain(S, delta, price):\n",
    "    capitalGain = (delta * 100 - S[i] - S[i-1]) + (price[i] - price[i-1])\n",
    "                   \n",
    "    return capitalGain\n",
    "gain = capitalGain(spot_t , callDelta, callPrice)\n",
    "gain[:5]\n"
   ]
  },
  {
   "cell_type": "code",
   "execution_count": 42,
   "metadata": {},
   "outputs": [
    {
     "data": {
      "text/plain": [
       "array([ -65.98864365,  -51.17689464,  -29.78484268, -107.91706818,\n",
       "        -45.31546501])"
      ]
     },
     "execution_count": 42,
     "metadata": {},
     "output_type": "execute_result"
    }
   ],
   "source": [
    "def dailyProfit(interest, gain):\n",
    "    dailyProfit = interest + gain\n",
    "    \n",
    "    return dailyProfit\n",
    "\n",
    "profit = dailyProfit(dailyInterest, gain)\n",
    "profit[:5]"
   ]
  },
  {
   "cell_type": "code",
   "execution_count": null,
   "metadata": {},
   "outputs": [],
   "source": []
  }
 ],
 "metadata": {
  "kernelspec": {
   "display_name": "Python 3",
   "language": "python",
   "name": "python3"
  },
  "language_info": {
   "codemirror_mode": {
    "name": "ipython",
    "version": 3
   },
   "file_extension": ".py",
   "mimetype": "text/x-python",
   "name": "python",
   "nbconvert_exporter": "python",
   "pygments_lexer": "ipython3",
   "version": "3.6.5"
  }
 },
 "nbformat": 4,
 "nbformat_minor": 2
}
